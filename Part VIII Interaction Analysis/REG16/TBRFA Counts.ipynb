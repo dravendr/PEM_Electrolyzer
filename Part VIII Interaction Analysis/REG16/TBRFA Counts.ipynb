{
 "cells": [
  {
   "cell_type": "code",
   "execution_count": 1,
   "metadata": {},
   "outputs": [],
   "source": [
    "import pandas as pd\n",
    "import numpy as np"
   ]
  },
  {
   "cell_type": "code",
   "execution_count": 2,
   "metadata": {},
   "outputs": [],
   "source": [
    "inter=pd.read_csv('inter_sum.csv',encoding=\"gbk\")"
   ]
  },
  {
   "cell_type": "code",
   "execution_count": 3,
   "metadata": {},
   "outputs": [
    {
     "data": {
      "text/html": [
       "<div>\n",
       "<style scoped>\n",
       "    .dataframe tbody tr th:only-of-type {\n",
       "        vertical-align: middle;\n",
       "    }\n",
       "\n",
       "    .dataframe tbody tr th {\n",
       "        vertical-align: top;\n",
       "    }\n",
       "\n",
       "    .dataframe thead th {\n",
       "        text-align: right;\n",
       "    }\n",
       "</style>\n",
       "<table border=\"1\" class=\"dataframe\">\n",
       "  <thead>\n",
       "    <tr style=\"text-align: right;\">\n",
       "      <th></th>\n",
       "      <th>variable</th>\n",
       "      <th>root_variable</th>\n",
       "      <th>mean_min_depth</th>\n",
       "      <th>occurrences</th>\n",
       "      <th>interaction</th>\n",
       "      <th>uncond_mean_min_depth</th>\n",
       "    </tr>\n",
       "  </thead>\n",
       "  <tbody>\n",
       "    <tr>\n",
       "      <th>0</th>\n",
       "      <td>AA</td>\n",
       "      <td>AA</td>\n",
       "      <td>5.127736</td>\n",
       "      <td>228</td>\n",
       "      <td>AA:AA</td>\n",
       "      <td>2.940000</td>\n",
       "    </tr>\n",
       "    <tr>\n",
       "      <th>1</th>\n",
       "      <td>AA</td>\n",
       "      <td>AL</td>\n",
       "      <td>4.726562</td>\n",
       "      <td>209</td>\n",
       "      <td>AL:AA</td>\n",
       "      <td>2.940000</td>\n",
       "    </tr>\n",
       "    <tr>\n",
       "      <th>2</th>\n",
       "      <td>AA</td>\n",
       "      <td>CL</td>\n",
       "      <td>4.423885</td>\n",
       "      <td>272</td>\n",
       "      <td>CL:AA</td>\n",
       "      <td>2.940000</td>\n",
       "    </tr>\n",
       "    <tr>\n",
       "      <th>3</th>\n",
       "      <td>AA</td>\n",
       "      <td>EW</td>\n",
       "      <td>4.720954</td>\n",
       "      <td>172</td>\n",
       "      <td>EW:AA</td>\n",
       "      <td>2.940000</td>\n",
       "    </tr>\n",
       "    <tr>\n",
       "      <th>4</th>\n",
       "      <td>AA</td>\n",
       "      <td>FR</td>\n",
       "      <td>5.127933</td>\n",
       "      <td>212</td>\n",
       "      <td>FR:AA</td>\n",
       "      <td>2.940000</td>\n",
       "    </tr>\n",
       "    <tr>\n",
       "      <th>...</th>\n",
       "      <td>...</td>\n",
       "      <td>...</td>\n",
       "      <td>...</td>\n",
       "      <td>...</td>\n",
       "      <td>...</td>\n",
       "      <td>...</td>\n",
       "    </tr>\n",
       "    <tr>\n",
       "      <th>164</th>\n",
       "      <td>RU</td>\n",
       "      <td>MT</td>\n",
       "      <td>4.592126</td>\n",
       "      <td>301</td>\n",
       "      <td>MT:RU</td>\n",
       "      <td>3.732275</td>\n",
       "    </tr>\n",
       "    <tr>\n",
       "      <th>165</th>\n",
       "      <td>RU</td>\n",
       "      <td>O</td>\n",
       "      <td>5.899469</td>\n",
       "      <td>134</td>\n",
       "      <td>O:RU</td>\n",
       "      <td>3.732275</td>\n",
       "    </tr>\n",
       "    <tr>\n",
       "      <th>166</th>\n",
       "      <td>RU</td>\n",
       "      <td>OT</td>\n",
       "      <td>4.709810</td>\n",
       "      <td>306</td>\n",
       "      <td>OT:RU</td>\n",
       "      <td>3.732275</td>\n",
       "    </tr>\n",
       "    <tr>\n",
       "      <th>167</th>\n",
       "      <td>RU</td>\n",
       "      <td>PT</td>\n",
       "      <td>5.620433</td>\n",
       "      <td>154</td>\n",
       "      <td>PT:RU</td>\n",
       "      <td>3.732275</td>\n",
       "    </tr>\n",
       "    <tr>\n",
       "      <th>168</th>\n",
       "      <td>RU</td>\n",
       "      <td>RU</td>\n",
       "      <td>6.218066</td>\n",
       "      <td>87</td>\n",
       "      <td>RU:RU</td>\n",
       "      <td>3.732275</td>\n",
       "    </tr>\n",
       "  </tbody>\n",
       "</table>\n",
       "<p>169 rows × 6 columns</p>\n",
       "</div>"
      ],
      "text/plain": [
       "    variable root_variable  mean_min_depth  occurrences interaction  \\\n",
       "0         AA            AA        5.127736          228       AA:AA   \n",
       "1         AA            AL        4.726562          209       AL:AA   \n",
       "2         AA            CL        4.423885          272       CL:AA   \n",
       "3         AA            EW        4.720954          172       EW:AA   \n",
       "4         AA            FR        5.127933          212       FR:AA   \n",
       "..       ...           ...             ...          ...         ...   \n",
       "164       RU            MT        4.592126          301       MT:RU   \n",
       "165       RU             O        5.899469          134        O:RU   \n",
       "166       RU            OT        4.709810          306       OT:RU   \n",
       "167       RU            PT        5.620433          154       PT:RU   \n",
       "168       RU            RU        6.218066           87       RU:RU   \n",
       "\n",
       "     uncond_mean_min_depth  \n",
       "0                 2.940000  \n",
       "1                 2.940000  \n",
       "2                 2.940000  \n",
       "3                 2.940000  \n",
       "4                 2.940000  \n",
       "..                     ...  \n",
       "164               3.732275  \n",
       "165               3.732275  \n",
       "166               3.732275  \n",
       "167               3.732275  \n",
       "168               3.732275  \n",
       "\n",
       "[169 rows x 6 columns]"
      ]
     },
     "execution_count": 3,
     "metadata": {},
     "output_type": "execute_result"
    }
   ],
   "source": [
    "inter"
   ]
  },
  {
   "cell_type": "code",
   "execution_count": 4,
   "metadata": {},
   "outputs": [],
   "source": [
    "def sum_list(target_list):\n",
    "    sum_result=0\n",
    "    for i in target_list:\n",
    "        sum_result+=i\n",
    "    return sum_result\n",
    "def count_total_occurrence(dataframe,feature_list):\n",
    "    total_occur_list=[]\n",
    "    for i in feature_list:\n",
    "        sum_occur=dataframe[dataframe['variable']==i]['occurrences'].sum()\n",
    "        sum_occur_r=dataframe[dataframe['root_variable']==i]['occurrences'].sum()\n",
    "        total_sum=sum_occur+sum_occur_r\n",
    "        total_occur_list.append(total_sum)\n",
    "    print(total_occur_list)\n",
    "    return total_occur_list"
   ]
  },
  {
   "cell_type": "code",
   "execution_count": 5,
   "metadata": {
    "scrolled": true
   },
   "outputs": [
    {
     "name": "stdout",
     "output_type": "stream",
     "text": [
      "[8455, 6662, 6425, 5989, 5036, 5965, 7706, 6234, 6991, 6612, 6793, 7382, 4732]\n"
     ]
    }
   ],
   "source": [
    "f_list=['OT','FR','AA','IR','RU','O','ICA','PT','ICC','AL','CL','MT','EW']\n",
    "a=count_total_occurrence(inter,f_list)"
   ]
  },
  {
   "cell_type": "code",
   "execution_count": null,
   "metadata": {},
   "outputs": [],
   "source": [
    "[6545, 7085, 5242, 2369, 1962, 1647, 1980, 8018, 7099, 7859, 7046, 6988, 6334, 7421, 6140, 5684, 5899, 2602, 7402, 6060]"
   ]
  }
 ],
 "metadata": {
  "kernelspec": {
   "display_name": "Python 3",
   "language": "python",
   "name": "python3"
  },
  "language_info": {
   "codemirror_mode": {
    "name": "ipython",
    "version": 3
   },
   "file_extension": ".py",
   "mimetype": "text/x-python",
   "name": "python",
   "nbconvert_exporter": "python",
   "pygments_lexer": "ipython3",
   "version": "3.7.6"
  }
 },
 "nbformat": 4,
 "nbformat_minor": 4
}
