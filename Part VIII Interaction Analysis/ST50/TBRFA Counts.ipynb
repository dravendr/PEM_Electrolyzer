{
 "cells": [
  {
   "cell_type": "code",
   "execution_count": 1,
   "metadata": {},
   "outputs": [],
   "source": [
    "import pandas as pd\n",
    "import numpy as np"
   ]
  },
  {
   "cell_type": "code",
   "execution_count": 2,
   "metadata": {},
   "outputs": [],
   "source": [
    "inter=pd.read_csv('inter_sum.csv',encoding=\"gbk\")"
   ]
  },
  {
   "cell_type": "code",
   "execution_count": 3,
   "metadata": {},
   "outputs": [
    {
     "data": {
      "text/html": [
       "<div>\n",
       "<style scoped>\n",
       "    .dataframe tbody tr th:only-of-type {\n",
       "        vertical-align: middle;\n",
       "    }\n",
       "\n",
       "    .dataframe tbody tr th {\n",
       "        vertical-align: top;\n",
       "    }\n",
       "\n",
       "    .dataframe thead th {\n",
       "        text-align: right;\n",
       "    }\n",
       "</style>\n",
       "<table border=\"1\" class=\"dataframe\">\n",
       "  <thead>\n",
       "    <tr style=\"text-align: right;\">\n",
       "      <th></th>\n",
       "      <th>variable</th>\n",
       "      <th>root_variable</th>\n",
       "      <th>mean_min_depth</th>\n",
       "      <th>occurrences</th>\n",
       "      <th>interaction</th>\n",
       "      <th>uncond_mean_min_depth</th>\n",
       "    </tr>\n",
       "  </thead>\n",
       "  <tbody>\n",
       "    <tr>\n",
       "      <th>0</th>\n",
       "      <td>AA</td>\n",
       "      <td>AA</td>\n",
       "      <td>4.812251</td>\n",
       "      <td>60</td>\n",
       "      <td>AA:AA</td>\n",
       "      <td>1.803370</td>\n",
       "    </tr>\n",
       "    <tr>\n",
       "      <th>1</th>\n",
       "      <td>AA</td>\n",
       "      <td>AL</td>\n",
       "      <td>3.682764</td>\n",
       "      <td>36</td>\n",
       "      <td>AL:AA</td>\n",
       "      <td>1.803370</td>\n",
       "    </tr>\n",
       "    <tr>\n",
       "      <th>2</th>\n",
       "      <td>AA</td>\n",
       "      <td>CD</td>\n",
       "      <td>3.218881</td>\n",
       "      <td>39</td>\n",
       "      <td>CD:AA</td>\n",
       "      <td>1.803370</td>\n",
       "    </tr>\n",
       "    <tr>\n",
       "      <th>3</th>\n",
       "      <td>AA</td>\n",
       "      <td>CL</td>\n",
       "      <td>3.515038</td>\n",
       "      <td>23</td>\n",
       "      <td>CL:AA</td>\n",
       "      <td>1.803370</td>\n",
       "    </tr>\n",
       "    <tr>\n",
       "      <th>4</th>\n",
       "      <td>AA</td>\n",
       "      <td>EW</td>\n",
       "      <td>4.248497</td>\n",
       "      <td>20</td>\n",
       "      <td>EW:AA</td>\n",
       "      <td>1.803370</td>\n",
       "    </tr>\n",
       "    <tr>\n",
       "      <th>...</th>\n",
       "      <td>...</td>\n",
       "      <td>...</td>\n",
       "      <td>...</td>\n",
       "      <td>...</td>\n",
       "      <td>...</td>\n",
       "      <td>...</td>\n",
       "    </tr>\n",
       "    <tr>\n",
       "      <th>220</th>\n",
       "      <td>ST</td>\n",
       "      <td>O</td>\n",
       "      <td>3.456873</td>\n",
       "      <td>67</td>\n",
       "      <td>O:ST</td>\n",
       "      <td>2.473011</td>\n",
       "    </tr>\n",
       "    <tr>\n",
       "      <th>221</th>\n",
       "      <td>ST</td>\n",
       "      <td>OT</td>\n",
       "      <td>3.616453</td>\n",
       "      <td>32</td>\n",
       "      <td>OT:ST</td>\n",
       "      <td>2.473011</td>\n",
       "    </tr>\n",
       "    <tr>\n",
       "      <th>222</th>\n",
       "      <td>ST</td>\n",
       "      <td>PT</td>\n",
       "      <td>3.706740</td>\n",
       "      <td>44</td>\n",
       "      <td>PT:ST</td>\n",
       "      <td>2.473011</td>\n",
       "    </tr>\n",
       "    <tr>\n",
       "      <th>223</th>\n",
       "      <td>ST</td>\n",
       "      <td>RU</td>\n",
       "      <td>3.068452</td>\n",
       "      <td>27</td>\n",
       "      <td>RU:ST</td>\n",
       "      <td>2.473011</td>\n",
       "    </tr>\n",
       "    <tr>\n",
       "      <th>224</th>\n",
       "      <td>ST</td>\n",
       "      <td>ST</td>\n",
       "      <td>2.717596</td>\n",
       "      <td>84</td>\n",
       "      <td>ST:ST</td>\n",
       "      <td>2.473011</td>\n",
       "    </tr>\n",
       "  </tbody>\n",
       "</table>\n",
       "<p>225 rows × 6 columns</p>\n",
       "</div>"
      ],
      "text/plain": [
       "    variable root_variable  mean_min_depth  occurrences interaction  \\\n",
       "0         AA            AA        4.812251           60       AA:AA   \n",
       "1         AA            AL        3.682764           36       AL:AA   \n",
       "2         AA            CD        3.218881           39       CD:AA   \n",
       "3         AA            CL        3.515038           23       CL:AA   \n",
       "4         AA            EW        4.248497           20       EW:AA   \n",
       "..       ...           ...             ...          ...         ...   \n",
       "220       ST             O        3.456873           67        O:ST   \n",
       "221       ST            OT        3.616453           32       OT:ST   \n",
       "222       ST            PT        3.706740           44       PT:ST   \n",
       "223       ST            RU        3.068452           27       RU:ST   \n",
       "224       ST            ST        2.717596           84       ST:ST   \n",
       "\n",
       "     uncond_mean_min_depth  \n",
       "0                 1.803370  \n",
       "1                 1.803370  \n",
       "2                 1.803370  \n",
       "3                 1.803370  \n",
       "4                 1.803370  \n",
       "..                     ...  \n",
       "220               2.473011  \n",
       "221               2.473011  \n",
       "222               2.473011  \n",
       "223               2.473011  \n",
       "224               2.473011  \n",
       "\n",
       "[225 rows x 6 columns]"
      ]
     },
     "execution_count": 3,
     "metadata": {},
     "output_type": "execute_result"
    }
   ],
   "source": [
    "inter"
   ]
  },
  {
   "cell_type": "code",
   "execution_count": 4,
   "metadata": {},
   "outputs": [],
   "source": [
    "def sum_list(target_list):\n",
    "    sum_result=0\n",
    "    for i in target_list:\n",
    "        sum_result+=i\n",
    "    return sum_result\n",
    "def count_total_occurrence(dataframe,feature_list):\n",
    "    total_occur_list=[]\n",
    "    for i in feature_list:\n",
    "        sum_occur=dataframe[dataframe['variable']==i]['occurrences'].sum()\n",
    "        sum_occur_r=dataframe[dataframe['root_variable']==i]['occurrences'].sum()\n",
    "        total_sum=sum_occur+sum_occur_r\n",
    "        total_occur_list.append(total_sum)\n",
    "    print(total_occur_list)\n",
    "    return total_occur_list"
   ]
  },
  {
   "cell_type": "code",
   "execution_count": 5,
   "metadata": {
    "scrolled": true
   },
   "outputs": [
    {
     "name": "stdout",
     "output_type": "stream",
     "text": [
      "[859, 1497, 1802, 791, 687, 1518, 1420, 1147, 1535, 1569, 1011, 932, 738, 1303, 1813]\n"
     ]
    }
   ],
   "source": [
    "f_list=['OT','FR','AA','IR','RU','O','ICA','PT','ICC','AL','CL','MT','EW','CD','ST']\n",
    "a=count_total_occurrence(inter,f_list)"
   ]
  },
  {
   "cell_type": "code",
   "execution_count": null,
   "metadata": {},
   "outputs": [],
   "source": [
    "[6545, 7085, 5242, 2369, 1962, 1647, 1980, 8018, 7099, 7859, 7046, 6988, 6334, 7421, 6140, 5684, 5899, 2602, 7402, 6060]"
   ]
  }
 ],
 "metadata": {
  "kernelspec": {
   "display_name": "Python 3",
   "language": "python",
   "name": "python3"
  },
  "language_info": {
   "codemirror_mode": {
    "name": "ipython",
    "version": 3
   },
   "file_extension": ".py",
   "mimetype": "text/x-python",
   "name": "python",
   "nbconvert_exporter": "python",
   "pygments_lexer": "ipython3",
   "version": "3.7.6"
  }
 },
 "nbformat": 4,
 "nbformat_minor": 4
}
