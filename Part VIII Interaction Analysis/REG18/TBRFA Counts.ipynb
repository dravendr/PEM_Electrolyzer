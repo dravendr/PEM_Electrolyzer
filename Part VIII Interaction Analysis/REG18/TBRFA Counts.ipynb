{
 "cells": [
  {
   "cell_type": "code",
   "execution_count": 1,
   "metadata": {},
   "outputs": [],
   "source": [
    "import pandas as pd\n",
    "import numpy as np"
   ]
  },
  {
   "cell_type": "code",
   "execution_count": 2,
   "metadata": {},
   "outputs": [],
   "source": [
    "inter=pd.read_csv('inter_sum.csv',encoding=\"gbk\")"
   ]
  },
  {
   "cell_type": "code",
   "execution_count": 3,
   "metadata": {},
   "outputs": [
    {
     "data": {
      "text/html": [
       "<div>\n",
       "<style scoped>\n",
       "    .dataframe tbody tr th:only-of-type {\n",
       "        vertical-align: middle;\n",
       "    }\n",
       "\n",
       "    .dataframe tbody tr th {\n",
       "        vertical-align: top;\n",
       "    }\n",
       "\n",
       "    .dataframe thead th {\n",
       "        text-align: right;\n",
       "    }\n",
       "</style>\n",
       "<table border=\"1\" class=\"dataframe\">\n",
       "  <thead>\n",
       "    <tr style=\"text-align: right;\">\n",
       "      <th></th>\n",
       "      <th>variable</th>\n",
       "      <th>root_variable</th>\n",
       "      <th>mean_min_depth</th>\n",
       "      <th>occurrences</th>\n",
       "      <th>interaction</th>\n",
       "      <th>uncond_mean_min_depth</th>\n",
       "    </tr>\n",
       "  </thead>\n",
       "  <tbody>\n",
       "    <tr>\n",
       "      <th>0</th>\n",
       "      <td>AA</td>\n",
       "      <td>AA</td>\n",
       "      <td>4.929395</td>\n",
       "      <td>89</td>\n",
       "      <td>AA:AA</td>\n",
       "      <td>3.3900</td>\n",
       "    </tr>\n",
       "    <tr>\n",
       "      <th>1</th>\n",
       "      <td>AA</td>\n",
       "      <td>AL</td>\n",
       "      <td>4.447789</td>\n",
       "      <td>94</td>\n",
       "      <td>AL:AA</td>\n",
       "      <td>3.3900</td>\n",
       "    </tr>\n",
       "    <tr>\n",
       "      <th>2</th>\n",
       "      <td>AA</td>\n",
       "      <td>CL</td>\n",
       "      <td>4.443895</td>\n",
       "      <td>138</td>\n",
       "      <td>CL:AA</td>\n",
       "      <td>3.3900</td>\n",
       "    </tr>\n",
       "    <tr>\n",
       "      <th>3</th>\n",
       "      <td>AA</td>\n",
       "      <td>EW</td>\n",
       "      <td>5.049000</td>\n",
       "      <td>103</td>\n",
       "      <td>EW:AA</td>\n",
       "      <td>3.3900</td>\n",
       "    </tr>\n",
       "    <tr>\n",
       "      <th>4</th>\n",
       "      <td>AA</td>\n",
       "      <td>FR</td>\n",
       "      <td>4.572395</td>\n",
       "      <td>101</td>\n",
       "      <td>FR:AA</td>\n",
       "      <td>3.3900</td>\n",
       "    </tr>\n",
       "    <tr>\n",
       "      <th>...</th>\n",
       "      <td>...</td>\n",
       "      <td>...</td>\n",
       "      <td>...</td>\n",
       "      <td>...</td>\n",
       "      <td>...</td>\n",
       "      <td>...</td>\n",
       "    </tr>\n",
       "    <tr>\n",
       "      <th>164</th>\n",
       "      <td>RU</td>\n",
       "      <td>MT</td>\n",
       "      <td>5.282000</td>\n",
       "      <td>152</td>\n",
       "      <td>MT:RU</td>\n",
       "      <td>4.3035</td>\n",
       "    </tr>\n",
       "    <tr>\n",
       "      <th>165</th>\n",
       "      <td>RU</td>\n",
       "      <td>O</td>\n",
       "      <td>6.450947</td>\n",
       "      <td>66</td>\n",
       "      <td>O:RU</td>\n",
       "      <td>4.3035</td>\n",
       "    </tr>\n",
       "    <tr>\n",
       "      <th>166</th>\n",
       "      <td>RU</td>\n",
       "      <td>OT</td>\n",
       "      <td>6.174579</td>\n",
       "      <td>119</td>\n",
       "      <td>OT:RU</td>\n",
       "      <td>4.3035</td>\n",
       "    </tr>\n",
       "    <tr>\n",
       "      <th>167</th>\n",
       "      <td>RU</td>\n",
       "      <td>PT</td>\n",
       "      <td>5.946474</td>\n",
       "      <td>56</td>\n",
       "      <td>PT:RU</td>\n",
       "      <td>4.3035</td>\n",
       "    </tr>\n",
       "    <tr>\n",
       "      <th>168</th>\n",
       "      <td>RU</td>\n",
       "      <td>RU</td>\n",
       "      <td>5.719227</td>\n",
       "      <td>38</td>\n",
       "      <td>RU:RU</td>\n",
       "      <td>4.3035</td>\n",
       "    </tr>\n",
       "  </tbody>\n",
       "</table>\n",
       "<p>169 rows × 6 columns</p>\n",
       "</div>"
      ],
      "text/plain": [
       "    variable root_variable  mean_min_depth  occurrences interaction  \\\n",
       "0         AA            AA        4.929395           89       AA:AA   \n",
       "1         AA            AL        4.447789           94       AL:AA   \n",
       "2         AA            CL        4.443895          138       CL:AA   \n",
       "3         AA            EW        5.049000          103       EW:AA   \n",
       "4         AA            FR        4.572395          101       FR:AA   \n",
       "..       ...           ...             ...          ...         ...   \n",
       "164       RU            MT        5.282000          152       MT:RU   \n",
       "165       RU             O        6.450947           66        O:RU   \n",
       "166       RU            OT        6.174579          119       OT:RU   \n",
       "167       RU            PT        5.946474           56       PT:RU   \n",
       "168       RU            RU        5.719227           38       RU:RU   \n",
       "\n",
       "     uncond_mean_min_depth  \n",
       "0                   3.3900  \n",
       "1                   3.3900  \n",
       "2                   3.3900  \n",
       "3                   3.3900  \n",
       "4                   3.3900  \n",
       "..                     ...  \n",
       "164                 4.3035  \n",
       "165                 4.3035  \n",
       "166                 4.3035  \n",
       "167                 4.3035  \n",
       "168                 4.3035  \n",
       "\n",
       "[169 rows x 6 columns]"
      ]
     },
     "execution_count": 3,
     "metadata": {},
     "output_type": "execute_result"
    }
   ],
   "source": [
    "inter"
   ]
  },
  {
   "cell_type": "code",
   "execution_count": 4,
   "metadata": {},
   "outputs": [],
   "source": [
    "def sum_list(target_list):\n",
    "    sum_result=0\n",
    "    for i in target_list:\n",
    "        sum_result+=i\n",
    "    return sum_result\n",
    "def count_total_occurrence(dataframe,feature_list):\n",
    "    total_occur_list=[]\n",
    "    for i in feature_list:\n",
    "        sum_occur=dataframe[dataframe['variable']==i]['occurrences'].sum()\n",
    "        sum_occur_r=dataframe[dataframe['root_variable']==i]['occurrences'].sum()\n",
    "        total_sum=sum_occur+sum_occur_r\n",
    "        total_occur_list.append(total_sum)\n",
    "    print(total_occur_list)\n",
    "    return total_occur_list"
   ]
  },
  {
   "cell_type": "code",
   "execution_count": 5,
   "metadata": {
    "scrolled": true
   },
   "outputs": [
    {
     "name": "stdout",
     "output_type": "stream",
     "text": [
      "[3965, 3135, 2795, 2932, 2169, 3102, 3762, 2878, 3527, 3117, 3377, 3715, 2588]\n"
     ]
    }
   ],
   "source": [
    "f_list=['OT','FR','AA','IR','RU','O','ICA','PT','ICC','AL','CL','MT','EW']\n",
    "a=count_total_occurrence(inter,f_list)"
   ]
  },
  {
   "cell_type": "code",
   "execution_count": null,
   "metadata": {},
   "outputs": [],
   "source": [
    "[6545, 7085, 5242, 2369, 1962, 1647, 1980, 8018, 7099, 7859, 7046, 6988, 6334, 7421, 6140, 5684, 5899, 2602, 7402, 6060]"
   ]
  }
 ],
 "metadata": {
  "kernelspec": {
   "display_name": "Python 3",
   "language": "python",
   "name": "python3"
  },
  "language_info": {
   "codemirror_mode": {
    "name": "ipython",
    "version": 3
   },
   "file_extension": ".py",
   "mimetype": "text/x-python",
   "name": "python",
   "nbconvert_exporter": "python",
   "pygments_lexer": "ipython3",
   "version": "3.7.6"
  }
 },
 "nbformat": 4,
 "nbformat_minor": 4
}
