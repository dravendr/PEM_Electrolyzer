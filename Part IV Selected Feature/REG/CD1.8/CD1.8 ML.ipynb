{
 "cells": [
  {
   "cell_type": "code",
   "execution_count": 1,
   "metadata": {},
   "outputs": [
    {
     "name": "stdout",
     "output_type": "stream",
     "text": [
      "ready\n"
     ]
    }
   ],
   "source": [
    "###########import packages##########\n",
    "import pandas as pd\n",
    "import matplotlib.pyplot as plt\n",
    "import numpy as np\n",
    "from sklearn.model_selection import GridSearchCV\n",
    "from sklearn.model_selection import train_test_split\n",
    "from sklearn.metrics import accuracy_score\n",
    "from sklearn.metrics import classification_report\n",
    "from sklearn.model_selection import train_test_split\n",
    "from sklearn import ensemble\n",
    "from sklearn import svm\n",
    "from sklearn import neighbors\n",
    "from sklearn import tree\n",
    "from sklearn.linear_model import BayesianRidge\n",
    "from sklearn.tree import ExtraTreeRegressor\n",
    "from sklearn.tree import ExtraTreeClassifier\n",
    "from sklearn import linear_model\n",
    "from sklearn.preprocessing import label_binarize\n",
    "from itertools import cycle\n",
    "import lightgbm\n",
    "import catboost\n",
    "import xgboost\n",
    "#import shap\n",
    "from scipy import interp\n",
    "#import seaborn as sns\n",
    "from catboost import *\n",
    "from sklearn.decomposition import PCA\n",
    "from sklearn.metrics import roc_curve, auc\n",
    "from sklearn.metrics import r2_score\n",
    "#%matplotlib\n",
    "###########wrapping root mean square error for later calls##########\n",
    "def compute_mae_mse_rmse(target,prediction):\n",
    "    error = []\n",
    "    for i in range(len(target)):\n",
    "        error.append(target[i] - prediction[i])\n",
    "    squaredError = []\n",
    "    absError = []\n",
    "    for val in error:\n",
    "        squaredError.append(val * val)  # target-prediction之差平方\n",
    "        absError.append(abs(val))  # 误差绝对值\n",
    "    mae=sum(absError)/len(absError)  # 平均绝对误差MAE\n",
    "    mse=sum(squaredError)/len(squaredError)  # 均方误差MSE\n",
    "    RMSE=np.sqrt(sum(squaredError)/len(squaredError))\n",
    "    R2=r2_score(target,prediction)\n",
    "    return mae,mse,RMSE,R2\n",
    "###########loading data##########\n",
    "fdata=pd.read_csv('database_filled_CD.csv',encoding=\"gbk\")\n",
    "raw_data=fdata.loc[:,[\n",
    "                      'Operating Temperature (℃)',#0\n",
    "                      'Flow Rate (mL min-1)',#1    \n",
    "                      'Active Area (cm2)', #2\n",
    "                      'Ir wt. %',#3\n",
    "                      'Ru wt.%',#4\n",
    "                      'O wt. %',#5\n",
    "                      'I/C in Anode',#6\n",
    "                      'Pt wt. %',#7\n",
    "                      'I/C in Cathode',#8  \n",
    "                      'Anode Precious Metal Loading (mg cm-2 Ir/Ru/Pt/Pd)',#9\n",
    "                      'Cathode Precious Metal Loading (mg cm-2 Pt/Pd)',#10\n",
    "                      'Membrane Thickness (μm)',#11\n",
    "                      'EW'#12\n",
    "                        ]]\n",
    "###########train test splitting##########\n",
    "raw_param=raw_data.iloc[:,0:13]\n",
    "print('ready')"
   ]
  },
  {
   "cell_type": "code",
   "execution_count": 2,
   "metadata": {},
   "outputs": [],
   "source": [
    "CD18=fdata.loc[:,['Current at 1.8 V']]"
   ]
  },
  {
   "cell_type": "code",
   "execution_count": 3,
   "metadata": {},
   "outputs": [],
   "source": [
    "def summarize(list1):\n",
    "    total=0\n",
    "    for ele in range(0, len(list1)):\n",
    "        total = total + list1[ele]\n",
    "    return total"
   ]
  },
  {
   "cell_type": "code",
   "execution_count": 4,
   "metadata": {},
   "outputs": [],
   "source": [
    "def gridsearch(model,param,algorithm_name):\n",
    "    grid = GridSearchCV(model,param_grid=param,cv=5,n_jobs=-1)\n",
    "    grid.fit(X_train,y_train)\n",
    "    best_model=grid.best_estimator_\n",
    "    result = best_model.predict(X_test)\n",
    "    x_prediction_07=result\n",
    "    y_real_07=y_test[:,0]\n",
    "    x_prediction_07_series=pd.Series(x_prediction_07)\n",
    "    y_real_07_series=pd.Series(y_real_07)\n",
    "    \n",
    "    result_train = best_model.predict(X_train)\n",
    "    x_prediction_07_train=result_train\n",
    "    y_real_07_train=y_train[:,0]\n",
    "    x_prediction_07_series_train=pd.Series(x_prediction_07_train)\n",
    "    y_real_07_series_train=pd.Series(y_real_07_train)\n",
    "    \n",
    "    ###########evaluating the regression quality##########\n",
    "    corr_ann = round(x_prediction_07_series.corr(y_real_07_series), 5)\n",
    "    error_val= compute_mae_mse_rmse(x_prediction_07,y_real_07)\n",
    "    \n",
    "    corr_ann_train = round(x_prediction_07_series_train.corr(y_real_07_series_train), 5)\n",
    "    error_val_train= compute_mae_mse_rmse(x_prediction_07_train,y_real_07_train)\n",
    "    \n",
    "    print(algorithm_name)\n",
    "    print(best_model.feature_importances_)\n",
    "    print('Best Regressor:',grid.best_params_,'Best Score:', grid.best_score_)\n",
    "    print(error_val,'TEST R2',error_val[3],'TEST CORR',corr_ann)\n",
    "    print(error_val_train,'TRAIN R2',error_val_train[3],'TRAIN CORR',corr_ann_train)\n",
    "    x_y_x=np.arange(0,4.5,0.1)\n",
    "    x_y_y=np.arange(0,4.5,0.1)\n",
    "    fig = plt.figure()\n",
    "    ax = fig.add_subplot(111)\n",
    "    ax.scatter(x_prediction_07,y_real_07,color='red',label=algorithm_name+' Test Set',alpha=0.75)\n",
    "    ax.scatter(x_prediction_07_train,y_real_07_train,color='blue',label=algorithm_name+' Training Set',alpha=0.25,marker=\"^\")\n",
    "    ax.plot(x_y_x,x_y_y)\n",
    "    plt.legend()\n",
    "    plt.xlabel(u\"Predicted_Current_Density (mA cm^-2)@1.8V (vs. RHE)\")\n",
    "    plt.ylabel(u\"Real_Current_Density (mA cm^-2)@1.8V (vs. RHE)\")\n",
    "    plt.savefig('CD18 SEL %s.png' %algorithm_name)\n",
    "    print('finished')"
   ]
  },
  {
   "cell_type": "code",
   "execution_count": 5,
   "metadata": {},
   "outputs": [],
   "source": [
    "seed=7\n",
    "X_train, X_test, y_train, y_test = train_test_split(raw_param, CD18, test_size=.15,random_state=seed)"
   ]
  },
  {
   "cell_type": "code",
   "execution_count": 6,
   "metadata": {},
   "outputs": [],
   "source": [
    "train=pd.concat([X_train,y_train],axis=1)\n",
    "train.to_csv('REG18_train.csv')\n",
    "test=pd.concat([X_test,y_test],axis=1)\n",
    "test.to_csv('REG18_test.csv')"
   ]
  },
  {
   "cell_type": "code",
   "execution_count": 9,
   "metadata": {},
   "outputs": [],
   "source": [
    "from catboost import *\n",
    "import shap\n",
    "def shap_plot(model,param,algorithm_name):\n",
    "    print(algorithm_name)\n",
    "    SHAP_INPUT=raw_data.iloc[:,0:13]\n",
    "    SHAP_OUTPUT=CD18\n",
    "    grid = GridSearchCV(model,param_grid=param,cv=5,n_jobs=-100)\n",
    "    grid.fit(X_train,y_train)\n",
    "    best_model=grid.best_estimator_\n",
    "    X_SHAP=SHAP_INPUT.values.astype(np.float32)\n",
    "    y_SHAP=SHAP_OUTPUT\n",
    "    if algorithm_name=='CatBoost':\n",
    "        shap_values = best_model.get_feature_importance(Pool(X_SHAP,y_SHAP), type=\"ShapValues\")\n",
    "        shap_values=shap_values[:,:-1]\n",
    "        shap.summary_plot(shap_values, SHAP_INPUT,max_display=100)\n",
    "        global_importances = np.abs(shap_values).mean(0)\n",
    "        print(global_importances)\n",
    "    elif algorithm_name=='Random Forest' or algorithm_name=='Extra Tree'or algorithm_name=='Decision Tree'or algorithm_name=='AdaBoost':\n",
    "        explainer = shap.TreeExplainer(best_model,X_SHAP)\n",
    "        shap_values = explainer.shap_values(X_SHAP,check_additivity= False)\n",
    "        shap.summary_plot(shap_values, SHAP_INPUT,max_display=100)\n",
    "        global_importances = np.abs(shap_values).mean(0)\n",
    "        print(global_importances)\n",
    "    else:\n",
    "        explainer = shap.TreeExplainer(best_model,X_SHAP)\n",
    "        shap_values = explainer.shap_values(X_SHAP,check_additivity= False)\n",
    "        shap.summary_plot(shap_values, SHAP_INPUT,max_display=100)\n",
    "        global_importances = np.abs(shap_values).mean(0)\n",
    "        print(global_importances)"
   ]
  },
  {
   "cell_type": "code",
   "execution_count": 6,
   "metadata": {},
   "outputs": [],
   "source": [
    "# ##########LGBM gridsearch CV for best hyperparameter##########\n",
    "# model_LightGBMRegressor=lightgbm.LGBMRegressor(random_state=1,verbose=-1)\n",
    "# param_light = {\n",
    "# 'boosting_type':['gbdt','rf'],\n",
    "# 'learning_rate':[0.001,0.002,0.004,0.005,0.006,0.008,0.01,0.02,0.04,0.06,0.05,0.06,0.08,0.1,0.12,0.14,0.15,0.16,0.18,0.2,0.4,0.5,0.6,0.8,1],\n",
    "# 'subsample':[0.4,0.45,0.5,0.55,0.6,0.65,0.7,0.75,0.8,0.85,0.9,0.95,1],\n",
    "# 'n_estimators':[50,100,200,400],\n",
    "# 'max_depth':[5,7,9,11,13,-1],\n",
    "# 'reg_alpha':[0,0.001,0.01,0.0001,0.00001],\n",
    "# 'reg_lambda':[0,0.001,0.01,0.0001,0.00001]\n",
    "# }\n",
    "# gridsearch(model_LightGBMRegressor,param_light,'LightGBM')\n",
    "\n",
    "# ##########XGBoost gridsearch CV for best hyperparameter##########\n",
    "# model_XGBRegressor=xgboost.XGBRegressor(objective='reg:squarederror',random_state=1,verbosity=0)\n",
    "# param_xg = {\n",
    "# 'booster':['gbtree'],\n",
    "# 'learning_rate':[0.001,0.002,0.004,0.005,0.006,0.008,0.01,0.02,0.04,0.06,0.05,0.06,0.08,0.1,0.12,0.14,0.15,0.16,0.18,0.2,0.4,0.5,0.6,0.8,1],\n",
    "# 'n_estimators':[100,200,400],\n",
    "# 'max_depth':[5,7,9,11,13],\n",
    "# 'subsample':[0.4,0.45,0.5,0.55,0.6,0.65,0.7,0.75,0.8,0.85,0.9,0.95,1],\n",
    "# 'reg_alpha':[0,0.001,0.01,0.0001,0.00001],\n",
    "# 'reg_lambda':[0,0.001,0.01,0.0001,0.00001]\n",
    "# }\n",
    "# gridsearch(model_XGBRegressor,param_xg,'XGBoost')\n",
    "\n",
    "# ##########CatBoost gridsearch CV for best hyperparameter##########\n",
    "# model_CatRegressor=catboost.CatBoostRegressor(random_state=1,verbose=0)\n",
    "# param_cat = {\n",
    "# 'learning_rate':[0.001,0.002,0.004,0.005,0.006,0.008,0.01,0.02,0.04,0.06,0.05,0.06,0.08,0.1,0.12,0.14,0.15,0.16,0.18,0.2,0.4,0.5],\n",
    "# 'n_estimators':[50,100,200,400],\n",
    "# \"boosting_type\":[\"Plain\"],\n",
    "# 'max_depth':[5,7,9,11],\n",
    "# 'subsample':[0.4,0.5,0.55,0.6,0.65,0.7,0.75,0.8,0.85,0.9,0.95,1],\n",
    "# 'reg_lambda':[0,0.001,0.01,0.0001,0.00001]\n",
    "# }\n",
    "# gridsearch(model_CatRegressor,param_cat,'CatBoost')\n",
    "\n",
    "\n",
    "# ###########GradientBoost gridsearch CV for best hyperparameter##########\n",
    "# model_GradientBoostingRegressor = ensemble.GradientBoostingRegressor(random_state=1)\n",
    "# ###########defining the parameters dictionary##########\n",
    "# param_GB = {\n",
    "# 'learning_rate':[0.001,0.002,0.004,0.005,0.006,0.008,0.01,0.02,0.04,0.06,0.05,0.06,0.08,0.1,0.12,0.14,0.15,0.16,0.18,0.2,0.4,0.5,0.6,0.8,1],\n",
    "# 'n_estimators':[50,100,200,400],\n",
    "# 'max_depth':[3,5,7,9,11,13,16],\n",
    "# 'criterion':['friedman_mse','mae','mse'],\n",
    "# 'max_features':['auto','sqrt','log2'],\n",
    "# 'loss':['ls', 'lad', 'huber', 'quantile']\n",
    "# }\n",
    "# gridsearch(model_GradientBoostingRegressor,param_GB,'GradientBoost')\n",
    "\n",
    "# ###########RandomForest gridsearch CV for best hyperparameter##########\n",
    "# model_RandomForestRegressor = ensemble.RandomForestRegressor(random_state=1)\n",
    "# ###########defining the parameters dictionary##########\n",
    "# param_RF = {\n",
    "# 'n_estimators':[50,100,200,400,None],\n",
    "# 'max_depth':[3,5,7,9,11,None],\n",
    "# 'criterion':['mse','mae'],\n",
    "# 'max_features':['auto','sqrt','log2']\n",
    "# }\n",
    "# gridsearch(model_RandomForestRegressor,param_RF,'Random Forest')\n",
    "\n",
    "\n",
    "# ###########Extra Tree gridsearch CV for best hyperparameter##########\n",
    "# model_ExtraTreeRegressor = ExtraTreeRegressor(random_state=1)\n",
    "# param_ET = {\n",
    "# 'max_depth':[5,6,7,8,9,10,11,None],\n",
    "# 'max_features':['auto','sqrt','log2'],\n",
    "# 'criterion' : [\"mse\", \"friedman_mse\", \"mae\"],\n",
    "# 'splitter' : [ \"best\",'random']\n",
    "# }\n",
    "# gridsearch(model_ExtraTreeRegressor,param_ET,'Extra Tree')\n",
    "\n",
    "\n",
    "# ###########Decision Tree gridsearch CV for best hyperparameter##########\n",
    "# model_DecisionTreeRegressor = tree.DecisionTreeRegressor(random_state=1)\n",
    "# param_DT = {\n",
    "# 'max_depth':[5,6,7,8,9,10,11,None],\n",
    "# 'max_features':['auto','sqrt','log2'],\n",
    "# 'criterion' : [\"mse\", \"friedman_mse\", \"mae\"],\n",
    "# 'splitter' : [ \"best\",'random']\n",
    "# }\n",
    "# gridsearch(model_DecisionTreeRegressor,param_DT,'Decision Tree')\n",
    "\n",
    "\n",
    "# ###########AdaBoost gridsearch CV for best hyperparameter##########\n",
    "# model_AdaBoostRegressor = ensemble.AdaBoostRegressor(random_state=1)\n",
    "# param_Ada = {\n",
    "# 'n_estimators':[50,100,200,400,800],\n",
    "# 'learning_rate':[0.001,0.002,0.004,0.005,0.006,0.008,0.01,0.02,0.04,0.06,0.05,0.06,0.08,0.1,0.12,0.14,0.15,0.16,0.18,0.2,0.4,0.5,0.6,0.8,1],\n",
    "# 'loss':['linear', 'square', 'exponential']\n",
    "# }\n",
    "# gridsearch(model_AdaBoostRegressor,param_Ada,'AdaBoost')"
   ]
  },
  {
   "cell_type": "code",
   "execution_count": 7,
   "metadata": {},
   "outputs": [
    {
     "name": "stderr",
     "output_type": "stream",
     "text": [
      "C:\\Users\\Administratro\\AppData\\Roaming\\Python\\Python37\\site-packages\\lightgbm\\basic.py:154: UserWarning: Converting column-vector to 1d array\n",
      "  _log_warning('Converting column-vector to 1d array')\n"
     ]
    },
    {
     "name": "stdout",
     "output_type": "stream",
     "text": [
      "LightGBM\n",
      "[659 308 167 126  71 196 874 251 476 677 354 191 340]\n",
      "Best Regressor: {'boosting_type': 'gbdt', 'learning_rate': 0.12, 'max_depth': 7, 'n_estimators': 400, 'reg_alpha': 1e-05, 'reg_lambda': 0.01, 'subsample': 0.4} Best Score: 0.7701006614700843\n",
      "(0.27313314005657413, 0.20526067830709613, 0.45305703648337275, 0.7876064844381613) TEST R2 0.7876064844381613 TEST CORR 0.89899\n",
      "(0.13368191720535316, 0.08376999989168879, 0.28943047505694486, 0.9183028231565784) TRAIN R2 0.9183028231565784 TRAIN CORR 0.96281\n",
      "finished\n"
     ]
    },
    {
     "data": {
      "image/png": "[encoded data removed]",
      "text/plain": [
       "<Figure size 432x288 with 1 Axes>"
      ]
     },
     "metadata": {
      "needs_background": "light"
     },
     "output_type": "display_data"
    }
   ],
   "source": [
    "##########LGBM gridsearch CV for best hyperparameter##########\n",
    "model_LightGBMRegressor=lightgbm.LGBMRegressor(random_state=1,verbose=-1)\n",
    "param_light = {\n",
    "'boosting_type':['gbdt'],\n",
    "'learning_rate':[0.12],\n",
    "'subsample':[0.4],\n",
    "'n_estimators':[400],\n",
    "'max_depth':[7],\n",
    "'reg_alpha':[1e-05],\n",
    "'reg_lambda':[0.01]\n",
    "}\n",
    "gridsearch(model_LightGBMRegressor,param_light,'LightGBM')"
   ]
  },
  {
   "cell_type": "code",
   "execution_count": 10,
   "metadata": {},
   "outputs": [
    {
     "name": "stdout",
     "output_type": "stream",
     "text": [
      "Using matplotlib backend: Qt5Agg\n",
      "LightGBM\n"
     ]
    },
    {
     "name": "stderr",
     "output_type": "stream",
     "text": [
      "Converting column-vector to 1d array\n",
      "Converting column-vector to 1d array\n",
      "Converting column-vector to 1d array\n",
      "Converting column-vector to 1d array\n",
      "Converting column-vector to 1d array\n",
      "Converting column-vector to 1d array\n"
     ]
    },
    {
     "name": "stdout",
     "output_type": "stream",
     "text": [
      "[0.32659878 0.06207219 0.04726015 0.03631686 0.0408743  0.06035542\n",
      " 0.15558546 0.09607129 0.14360003 0.11733244 0.06150173 0.41216919\n",
      " 0.08455393]\n"
     ]
    }
   ],
   "source": [
    "%matplotlib\n",
    "shap_plot(model_LightGBMRegressor,param_light,'LightGBM')"
   ]
  },
  {
   "cell_type": "code",
   "execution_count": 11,
   "metadata": {},
   "outputs": [
    {
     "name": "stdout",
     "output_type": "stream",
     "text": [
      "XGBoost\n",
      "[0.03097785 0.01512896 0.02374061 0.02950398 0.02804396 0.06899851\n",
      " 0.04631102 0.04680886 0.08590943 0.03729742 0.04529686 0.46310613\n",
      " 0.07887635]\n",
      "Best Regressor: {'booster': 'gbtree', 'learning_rate': 0.02, 'max_depth': 11, 'n_estimators': 200, 'reg_alpha': 0, 'reg_lambda': 1e-05, 'subsample': 0.4} Best Score: 0.7871103833912566\n",
      "(0.2856444080373988, 0.2269850074100988, 0.4764294359190024, 0.7374804991029209) TEST R2 0.7374804991029209 TEST CORR 0.88539\n",
      "(0.12443079793777286, 0.06872155628643749, 0.2621479663976768, 0.9292069293175318) TRAIN R2 0.9292069293175318 TRAIN CORR 0.97086\n",
      "finished\n"
     ]
    }
   ],
   "source": [
    "##########XGBoost gridsearch CV for best hyperparameter##########\n",
    "model_XGBRegressor=xgboost.XGBRegressor(objective='reg:squarederror',random_state=1,verbosity=0)\n",
    "param_xg = {\n",
    "'booster':['gbtree'],\n",
    "'learning_rate':[0.02],\n",
    "'n_estimators':[200],\n",
    "'max_depth':[11],\n",
    "'subsample':[0.4],\n",
    "'reg_alpha':[0],\n",
    "'reg_lambda':[1e-05]\n",
    "}\n",
    "gridsearch(model_XGBRegressor,param_xg,'XGBoost')"
   ]
  },
  {
   "cell_type": "code",
   "execution_count": 12,
   "metadata": {},
   "outputs": [
    {
     "name": "stdout",
     "output_type": "stream",
     "text": [
      "XGBoost\n",
      "[0.28380507 0.04385302 0.05181145 0.03696746 0.02668629 0.04663723\n",
      " 0.11487045 0.04845284 0.13248036 0.07006722 0.05482466 0.39391575\n",
      " 0.08819189]\n"
     ]
    }
   ],
   "source": [
    "shap_plot(model_XGBRegressor,param_xg,'XGBoost')"
   ]
  },
  {
   "cell_type": "code",
   "execution_count": 13,
   "metadata": {},
   "outputs": [
    {
     "name": "stdout",
     "output_type": "stream",
     "text": [
      "CatBoost\n",
      "[21.16270931  3.96485448  4.14923847  3.16791796  2.13389324  6.38156108\n",
      " 10.73232143  4.1143684  11.69981332  6.55223551  6.29387038 15.45295448\n",
      "  4.19426193]\n",
      "Best Regressor: {'boosting_type': 'Plain', 'max_depth': 11, 'reg_lambda': 0.01, 'subsample': 0.85} Best Score: -172.69405294131994\n",
      "(0.28625346354805875, 0.2291093930529781, 0.47865372980159476, 0.7539439523045774) TEST R2 0.7539439523045774 TEST CORR 0.88857\n",
      "(0.059151270614579594, 0.05554176998390349, 0.23567301496756793, 0.94872401616105) TRAIN R2 0.94872401616105 TRAIN CORR 0.97541\n",
      "finished\n"
     ]
    }
   ],
   "source": [
    "##########CatBoost gridsearch CV for best hyperparameter##########\n",
    "model_CatRegressor=catboost.CatBoostRegressor(random_state=1,verbose=0)\n",
    "param_cat = {\n",
    "\n",
    "'max_depth':[11],\n",
    "'boosting_type':['Plain'],\n",
    "'subsample':[0.85],\n",
    "'reg_lambda':[0.01]\n",
    "}\n",
    "gridsearch(model_CatRegressor,param_cat,'CatBoost')"
   ]
  },
  {
   "cell_type": "code",
   "execution_count": 14,
   "metadata": {},
   "outputs": [
    {
     "name": "stdout",
     "output_type": "stream",
     "text": [
      "CatBoost\n",
      "[0.26252873 0.05833833 0.0482479  0.03168088 0.02925089 0.04345008\n",
      " 0.12902849 0.04557872 0.12209529 0.06309511 0.08718558 0.27377886\n",
      " 0.08443888]\n"
     ]
    }
   ],
   "source": [
    "shap_plot(model_CatRegressor,param_cat,'CatBoost')"
   ]
  },
  {
   "cell_type": "code",
   "execution_count": 15,
   "metadata": {},
   "outputs": [
    {
     "name": "stderr",
     "output_type": "stream",
     "text": [
      "A column-vector y was passed when a 1d array was expected. Please change the shape of y to (n_samples, ), for example using ravel().\n"
     ]
    },
    {
     "name": "stdout",
     "output_type": "stream",
     "text": [
      "GradientBoost\n",
      "[0.17387421 0.05545905 0.02685842 0.02592318 0.01150074 0.06335904\n",
      " 0.15075129 0.02677842 0.08686312 0.05205553 0.0875345  0.18136924\n",
      " 0.05767326]\n",
      "Best Regressor: {'criterion': 'friedman_mse', 'learning_rate': 0.1, 'loss': 'ls', 'max_depth': 5, 'max_features': 'sqrt', 'n_estimators': 100} Best Score: 0.7808439154432719\n",
      "(0.28292614343546435, 0.2009569939878413, 0.4482822704366539, 0.7686637955326603) TEST R2 0.7686637955326603 TEST CORR 0.89936\n",
      "(0.14639978885749846, 0.0794524309319997, 0.28187307592602684, 0.9201457615980749) TRAIN R2 0.9201457615980749 TRAIN CORR 0.96518\n",
      "finished\n"
     ]
    }
   ],
   "source": [
    "###########GradientBoost gridsearch CV for best hyperparameter##########\n",
    "model_GradientBoostingRegressor = ensemble.GradientBoostingRegressor(random_state=1)\n",
    "###########defining the parameters dictionary##########\n",
    "param_GB = {\n",
    "'learning_rate':[0.1],\n",
    "'n_estimators':[100],\n",
    "'max_depth':[5],\n",
    "'criterion':['friedman_mse'],\n",
    "'max_features':['sqrt'],\n",
    "'loss':['ls']\n",
    "}\n",
    "gridsearch(model_GradientBoostingRegressor,param_GB,'GradientBoost')"
   ]
  },
  {
   "cell_type": "code",
   "execution_count": 16,
   "metadata": {},
   "outputs": [
    {
     "name": "stdout",
     "output_type": "stream",
     "text": [
      "GradientBoost\n"
     ]
    },
    {
     "name": "stderr",
     "output_type": "stream",
     "text": [
      "A column-vector y was passed when a 1d array was expected. Please change the shape of y to (n_samples, ), for example using ravel().\n",
      "A column-vector y was passed when a 1d array was expected. Please change the shape of y to (n_samples, ), for example using ravel().\n",
      "A column-vector y was passed when a 1d array was expected. Please change the shape of y to (n_samples, ), for example using ravel().\n",
      "A column-vector y was passed when a 1d array was expected. Please change the shape of y to (n_samples, ), for example using ravel().\n",
      "A column-vector y was passed when a 1d array was expected. Please change the shape of y to (n_samples, ), for example using ravel().\n",
      "A column-vector y was passed when a 1d array was expected. Please change the shape of y to (n_samples, ), for example using ravel().\n"
     ]
    },
    {
     "name": "stdout",
     "output_type": "stream",
     "text": [
      "[0.30194531 0.05476796 0.0539249  0.03614919 0.01776111 0.05162062\n",
      " 0.12984886 0.06048902 0.10940352 0.07792361 0.06919638 0.29724558\n",
      " 0.13137304]\n"
     ]
    }
   ],
   "source": [
    "shap_plot(model_GradientBoostingRegressor,param_GB,'GradientBoost')"
   ]
  },
  {
   "cell_type": "code",
   "execution_count": 17,
   "metadata": {},
   "outputs": [
    {
     "name": "stderr",
     "output_type": "stream",
     "text": [
      "A column-vector y was passed when a 1d array was expected. Please change the shape of y to (n_samples,), for example using ravel().\n"
     ]
    },
    {
     "name": "stdout",
     "output_type": "stream",
     "text": [
      "Random Forest\n",
      "[0.1698075  0.06455354 0.04592815 0.04674506 0.02188419 0.05386286\n",
      " 0.12169911 0.05455635 0.08733205 0.07346515 0.08000339 0.12681471\n",
      " 0.05334794]\n",
      "Best Regressor: {'criterion': 'mae', 'max_depth': None, 'max_features': 'sqrt', 'n_estimators': 200} Best Score: 0.7617597489549566\n",
      "(0.28818631360189606, 0.1995357757277432, 0.44669427545889057, 0.7357989643627818) TEST R2 0.7357989643627818 TEST CORR 0.90163\n",
      "(0.15402177560118108, 0.0840300321710379, 0.2898793407109894, 0.9087471522084506) TRAIN R2 0.9087471522084506 TRAIN CORR 0.96494\n",
      "finished\n"
     ]
    }
   ],
   "source": [
    "###########RandomForest gridsearch CV for best hyperparameter##########\n",
    "model_RandomForestRegressor = ensemble.RandomForestRegressor(random_state=1)\n",
    "###########defining the parameters dictionary##########\n",
    "param_RF = {\n",
    "'n_estimators':[200],\n",
    "'max_depth':[None],\n",
    "'criterion':['mae'],\n",
    "'max_features':['sqrt']\n",
    "}\n",
    "gridsearch(model_RandomForestRegressor,param_RF,'Random Forest')"
   ]
  },
  {
   "cell_type": "code",
   "execution_count": 18,
   "metadata": {},
   "outputs": [
    {
     "name": "stdout",
     "output_type": "stream",
     "text": [
      "Random Forest\n"
     ]
    },
    {
     "name": "stderr",
     "output_type": "stream",
     "text": [
      "A column-vector y was passed when a 1d array was expected. Please change the shape of y to (n_samples,), for example using ravel().\n",
      "A column-vector y was passed when a 1d array was expected. Please change the shape of y to (n_samples,), for example using ravel().\n",
      "A column-vector y was passed when a 1d array was expected. Please change the shape of y to (n_samples,), for example using ravel().\n",
      "A column-vector y was passed when a 1d array was expected. Please change the shape of y to (n_samples,), for example using ravel().\n",
      "A column-vector y was passed when a 1d array was expected. Please change the shape of y to (n_samples,), for example using ravel().\n",
      "A column-vector y was passed when a 1d array was expected. Please change the shape of y to (n_samples,), for example using ravel().\n",
      " 93%|=================== | 540/578 [00:14<00:00]       "
     ]
    },
    {
     "name": "stdout",
     "output_type": "stream",
     "text": [
      "[0.2364618  0.04581607 0.04001282 0.03246    0.02212185 0.03288172\n",
      " 0.12289253 0.03770908 0.07588422 0.03861615 0.08766935 0.26475915\n",
      " 0.09556474]\n"
     ]
    }
   ],
   "source": [
    "shap_plot(model_RandomForestRegressor,param_RF,'Random Forest')"
   ]
  },
  {
   "cell_type": "code",
   "execution_count": 20,
   "metadata": {},
   "outputs": [
    {
     "name": "stdout",
     "output_type": "stream",
     "text": [
      "Extra Tree\n",
      "[0.18962744 0.01544876 0.024779   0.0044778  0.01558118 0.08516366\n",
      " 0.08304235 0.01944602 0.16487684 0.02783975 0.00905234 0.33323098\n",
      " 0.02743388]\n",
      "Best Regressor: {'criterion': 'friedman_mse', 'max_depth': 10, 'max_features': 'auto', 'splitter': 'best'} Best Score: 0.6369283357889417\n",
      "(0.36170417892648915, 0.32019396379192294, 0.5658568403685891, 0.7188572974972065) TEST R2 0.7188572974972065 TEST CORR 0.85619\n",
      "(0.1083905219625027, 0.07262618142119792, 0.26949245151060897, 0.9321816613321169) TRAIN R2 0.9321816613321169 TRAIN CORR 0.96772\n",
      "finished\n"
     ]
    }
   ],
   "source": [
    "###########Extra Tree gridsearch CV for best hyperparameter##########\n",
    "model_ExtraTreeRegressor = ExtraTreeRegressor(random_state=1)\n",
    "param_ET = {\n",
    "'max_depth':[10],\n",
    "'max_features':['auto'],\n",
    "'criterion' : [\"friedman_mse\"],\n",
    "'splitter' : [ 'best']\n",
    "}\n",
    "gridsearch(model_ExtraTreeRegressor,param_ET,'Extra Tree')"
   ]
  },
  {
   "cell_type": "code",
   "execution_count": 21,
   "metadata": {},
   "outputs": [
    {
     "name": "stdout",
     "output_type": "stream",
     "text": [
      "Extra Tree\n",
      "[0.29609457 0.03683325 0.10261936 0.00980782 0.05424582 0.12417041\n",
      " 0.17843001 0.07633904 0.17774733 0.05039807 0.04907787 0.37187102\n",
      " 0.06830668]\n"
     ]
    }
   ],
   "source": [
    "shap_plot(model_ExtraTreeRegressor,param_ET,'Extra Tree')"
   ]
  },
  {
   "cell_type": "code",
   "execution_count": 22,
   "metadata": {},
   "outputs": [
    {
     "name": "stdout",
     "output_type": "stream",
     "text": [
      "Decision Tree\n",
      "[0.18962744 0.01544876 0.024779   0.0044778  0.01558118 0.08516366\n",
      " 0.08304235 0.01944602 0.16487684 0.02783975 0.00905234 0.33323098\n",
      " 0.02743388]\n",
      "Best Regressor: {'criterion': 'friedman_mse', 'max_depth': 10, 'max_features': 'auto', 'splitter': 'best'} Best Score: 0.6369283357889417\n",
      "(0.36170417892648915, 0.32019396379192294, 0.5658568403685891, 0.7188572974972065) TEST R2 0.7188572974972065 TEST CORR 0.85619\n",
      "(0.1083905219625027, 0.07262618142119792, 0.26949245151060897, 0.9321816613321169) TRAIN R2 0.9321816613321169 TRAIN CORR 0.96772\n",
      "finished\n"
     ]
    }
   ],
   "source": [
    "###########Decision Tree gridsearch CV for best hyperparameter##########\n",
    "model_DecisionTreeRegressor = tree.DecisionTreeRegressor(random_state=1)\n",
    "param_DT = {\n",
    "'max_depth':[10],\n",
    "'max_features':['auto'],\n",
    "'criterion' : [\"friedman_mse\"],\n",
    "'splitter' : [ 'best']\n",
    "}\n",
    "gridsearch(model_DecisionTreeRegressor,param_DT,'Decision Tree')"
   ]
  },
  {
   "cell_type": "code",
   "execution_count": 23,
   "metadata": {},
   "outputs": [
    {
     "name": "stdout",
     "output_type": "stream",
     "text": [
      "Decision Tree\n",
      "[0.29609457 0.03683325 0.10261936 0.00980782 0.05424582 0.12417041\n",
      " 0.17843001 0.07633904 0.17774733 0.05039807 0.04907787 0.37187102\n",
      " 0.06830668]\n"
     ]
    }
   ],
   "source": [
    "shap_plot(model_DecisionTreeRegressor,param_DT,'Decision Tree')"
   ]
  },
  {
   "cell_type": "code",
   "execution_count": 24,
   "metadata": {},
   "outputs": [
    {
     "name": "stderr",
     "output_type": "stream",
     "text": [
      "A column-vector y was passed when a 1d array was expected. Please change the shape of y to (n_samples, ), for example using ravel().\n"
     ]
    },
    {
     "name": "stdout",
     "output_type": "stream",
     "text": [
      "AdaBoost\n",
      "[0.16719479 0.01588582 0.00985848 0.03466225 0.00853974 0.04964563\n",
      " 0.17368349 0.02547352 0.12895548 0.01861366 0.02175715 0.3064403\n",
      " 0.03928969]\n",
      "Best Regressor: {'learning_rate': 0.2, 'loss': 'exponential', 'n_estimators': 200} Best Score: 0.6119179493119888\n",
      "(0.4958615872875814, 0.38326439034791615, 0.6190835083798599, 0.18533768562222064) TEST R2 0.18533768562222064 TEST CORR 0.8131\n",
      "(0.4728318903468672, 0.38651403367231973, 0.6217025282820714, 0.23753016647757264) TRAIN R2 0.23753016647757264 TRAIN CORR 0.83065\n",
      "finished\n"
     ]
    }
   ],
   "source": [
    "###########AdaBoost gridsearch CV for best hyperparameter##########\n",
    "model_AdaBoostRegressor = ensemble.AdaBoostRegressor(random_state=1)\n",
    "param_Ada = {\n",
    "'n_estimators':[200],\n",
    "'learning_rate':[0.2],\n",
    "'loss':['exponential']\n",
    "}\n",
    "gridsearch(model_AdaBoostRegressor,param_Ada,'AdaBoost')"
   ]
  },
  {
   "cell_type": "code",
   "execution_count": 25,
   "metadata": {},
   "outputs": [
    {
     "name": "stdout",
     "output_type": "stream",
     "text": [
      "AdaBoost\n"
     ]
    },
    {
     "name": "stderr",
     "output_type": "stream",
     "text": [
      "A column-vector y was passed when a 1d array was expected. Please change the shape of y to (n_samples, ), for example using ravel().\n",
      "A column-vector y was passed when a 1d array was expected. Please change the shape of y to (n_samples, ), for example using ravel().\n",
      "A column-vector y was passed when a 1d array was expected. Please change the shape of y to (n_samples, ), for example using ravel().\n",
      "A column-vector y was passed when a 1d array was expected. Please change the shape of y to (n_samples, ), for example using ravel().\n",
      "A column-vector y was passed when a 1d array was expected. Please change the shape of y to (n_samples, ), for example using ravel().\n",
      "A column-vector y was passed when a 1d array was expected. Please change the shape of y to (n_samples, ), for example using ravel().\n"
     ]
    },
    {
     "name": "stdout",
     "output_type": "stream",
     "text": [
      "[0.19313132 0.04296865 0.01126807 0.0174113  0.01734522 0.03226867\n",
      " 0.17866821 0.02107449 0.13015365 0.01093077 0.02088712 0.30947939\n",
      " 0.04803551]\n"
     ]
    }
   ],
   "source": [
    "shap_plot(model_AdaBoostRegressor,param_Ada,'AdaBoost')"
   ]
  },
  {
   "cell_type": "code",
   "execution_count": null,
   "metadata": {},
   "outputs": [],
   "source": []
  }
 ],
 "metadata": {
  "kernelspec": {
   "display_name": "Python 3",
   "language": "python",
   "name": "python3"
  },
  "language_info": {
   "codemirror_mode": {
    "name": "ipython",
    "version": 3
   },
   "file_extension": ".py",
   "mimetype": "text/x-python",
   "name": "python",
   "nbconvert_exporter": "python",
   "pygments_lexer": "ipython3",
   "version": "3.7.6"
  }
 },
 "nbformat": 4,
 "nbformat_minor": 4
}
