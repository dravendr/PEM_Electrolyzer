{
 "cells": [
  {
   "cell_type": "code",
   "execution_count": 1,
   "metadata": {},
   "outputs": [
    {
     "name": "stdout",
     "output_type": "stream",
     "text": [
      "ready\n"
     ]
    }
   ],
   "source": [
    "###########import packages##########\n",
    "import pandas as pd\n",
    "import matplotlib.pyplot as plt\n",
    "import numpy as np\n",
    "from sklearn.model_selection import GridSearchCV\n",
    "from sklearn.model_selection import train_test_split\n",
    "from sklearn.metrics import accuracy_score\n",
    "from sklearn.metrics import classification_report\n",
    "from sklearn.model_selection import train_test_split\n",
    "from sklearn import ensemble\n",
    "from sklearn import svm\n",
    "from sklearn import neighbors\n",
    "from sklearn import tree\n",
    "from sklearn.linear_model import BayesianRidge\n",
    "from sklearn.tree import ExtraTreeRegressor\n",
    "from sklearn.tree import ExtraTreeClassifier\n",
    "from sklearn import linear_model\n",
    "from sklearn.preprocessing import label_binarize\n",
    "from itertools import cycle\n",
    "import lightgbm\n",
    "import catboost\n",
    "import xgboost\n",
    "#import shap\n",
    "from scipy import interp\n",
    "#import seaborn as sns\n",
    "from catboost import *\n",
    "from sklearn.decomposition import PCA\n",
    "from sklearn.metrics import roc_curve, auc\n",
    "from sklearn.metrics import r2_score\n",
    "#%matplotlib\n",
    "###########wrapping root mean square error for later calls##########\n",
    "def compute_mae_mse_rmse(target,prediction):\n",
    "    error = []\n",
    "    for i in range(len(target)):\n",
    "        error.append(target[i] - prediction[i])\n",
    "    squaredError = []\n",
    "    absError = []\n",
    "    for val in error:\n",
    "        squaredError.append(val * val)  # target-prediction之差平方\n",
    "        absError.append(abs(val))  # 误差绝对值\n",
    "    mae=sum(absError)/len(absError)  # 平均绝对误差MAE\n",
    "    mse=sum(squaredError)/len(squaredError)  # 均方误差MSE\n",
    "    RMSE=np.sqrt(sum(squaredError)/len(squaredError))\n",
    "    R2=r2_score(target,prediction)\n",
    "    return mae,mse,RMSE,R2\n",
    "###########loading data##########\n",
    "fdata=pd.read_csv('database_filled_CD.csv',encoding=\"gbk\")\n",
    "raw_data=fdata.loc[:,[\n",
    "                      'Operating Temperature (℃)',#0\n",
    "                      'Flow Rate (mL min-1)',#1    \n",
    "                      'Active Area (cm2)', #2\n",
    "                      'Ir wt. %',#3\n",
    "                      'Ru wt.%',#4\n",
    "                      'O wt. %',#5\n",
    "                      'I/C in Anode',#6\n",
    "                      'Pt wt. %',#7\n",
    "                      'I/C in Cathode',#8  \n",
    "                      'Anode Precious Metal Loading (mg cm-2 Ir/Ru/Pt/Pd)',#9\n",
    "                      'Cathode Precious Metal Loading (mg cm-2 Pt/Pd)',#10\n",
    "                      'Membrane Thickness (μm)',#11\n",
    "                      'EW'#12\n",
    "                        ]]\n",
    "###########train test splitting##########\n",
    "raw_param=raw_data.iloc[:,0:13]\n",
    "print('ready')"
   ]
  },
  {
   "cell_type": "code",
   "execution_count": 2,
   "metadata": {},
   "outputs": [],
   "source": [
    "CD19=fdata.loc[:,['Current at 1.9 V']]"
   ]
  },
  {
   "cell_type": "code",
   "execution_count": 3,
   "metadata": {},
   "outputs": [],
   "source": [
    "def summarize(list1):\n",
    "    total=0\n",
    "    for ele in range(0, len(list1)):\n",
    "        total = total + list1[ele]\n",
    "    return total"
   ]
  },
  {
   "cell_type": "code",
   "execution_count": 4,
   "metadata": {},
   "outputs": [],
   "source": [
    "def gridsearch(model,param,algorithm_name):\n",
    "    grid = GridSearchCV(model,param_grid=param,cv=5,n_jobs=-1)\n",
    "    grid.fit(X_train,y_train)\n",
    "    best_model=grid.best_estimator_\n",
    "    result = best_model.predict(X_test)\n",
    "    x_prediction_07=result\n",
    "    y_real_07=y_test[:,0]\n",
    "    x_prediction_07_series=pd.Series(x_prediction_07)\n",
    "    y_real_07_series=pd.Series(y_real_07)\n",
    "    \n",
    "    result_train = best_model.predict(X_train)\n",
    "    x_prediction_07_train=result_train\n",
    "    y_real_07_train=y_train[:,0]\n",
    "    x_prediction_07_series_train=pd.Series(x_prediction_07_train)\n",
    "    y_real_07_series_train=pd.Series(y_real_07_train)\n",
    "    \n",
    "    ###########evaluating the regression quality##########\n",
    "    corr_ann = round(x_prediction_07_series.corr(y_real_07_series), 5)\n",
    "    error_val= compute_mae_mse_rmse(x_prediction_07,y_real_07)\n",
    "    \n",
    "    corr_ann_train = round(x_prediction_07_series_train.corr(y_real_07_series_train), 5)\n",
    "    error_val_train= compute_mae_mse_rmse(x_prediction_07_train,y_real_07_train)\n",
    "    \n",
    "    print(algorithm_name)\n",
    "    print(best_model.feature_importances_)\n",
    "    print('Best Regressor:',grid.best_params_,'Best Score:', grid.best_score_)\n",
    "    print(error_val,'TEST R2',error_val[3],'TEST CORR',corr_ann)\n",
    "    print(error_val_train,'TRAIN R2',error_val_train[3],'TRAIN CORR',corr_ann_train)\n",
    "    x_y_x=np.arange(0,6.5,0.1)\n",
    "    x_y_y=np.arange(0,6.5,0.1)\n",
    "    fig = plt.figure()\n",
    "    ax = fig.add_subplot(111)\n",
    "    ax.scatter(x_prediction_07,y_real_07,color='red',label=algorithm_name+' Test Set',alpha=0.75)\n",
    "    ax.scatter(x_prediction_07_train,y_real_07_train,color='blue',label=algorithm_name+' Training Set',alpha=0.25,marker=\"^\")\n",
    "    ax.plot(x_y_x,x_y_y)\n",
    "    plt.legend()\n",
    "    plt.xlabel(u\"Predicted_Current_Density (mA cm^-2)@1.9V (vs. RHE)\")\n",
    "    plt.ylabel(u\"Real_Current_Density (mA cm^-2)@1.9V (vs. RHE)\")\n",
    "    plt.savefig('CD19 SEL %s.png' %algorithm_name)\n",
    "    print('finished')"
   ]
  },
  {
   "cell_type": "code",
   "execution_count": 5,
   "metadata": {},
   "outputs": [],
   "source": [
    "seed=8\n",
    "X_train, X_test, y_train, y_test = train_test_split(raw_param, CD19, test_size=.15,random_state=seed)"
   ]
  },
  {
   "cell_type": "code",
   "execution_count": 6,
   "metadata": {},
   "outputs": [],
   "source": [
    "train=pd.concat([X_train,y_train],axis=1)\n",
    "train.to_csv('REG19_train.csv')\n",
    "test=pd.concat([X_test,y_test],axis=1)\n",
    "test.to_csv('REG19_test.csv')"
   ]
  },
  {
   "cell_type": "code",
   "execution_count": 6,
   "metadata": {},
   "outputs": [],
   "source": [
    "from catboost import *\n",
    "import shap\n",
    "def shap_plot(model,param,algorithm_name):\n",
    "    print(algorithm_name)\n",
    "    SHAP_INPUT=raw_data.iloc[:,0:13]\n",
    "    SHAP_OUTPUT=CD19\n",
    "    grid = GridSearchCV(model,param_grid=param,cv=5,n_jobs=-100)\n",
    "    grid.fit(X_train,y_train)\n",
    "    best_model=grid.best_estimator_\n",
    "    X_SHAP=SHAP_INPUT.values.astype(np.float32)\n",
    "    y_SHAP=SHAP_OUTPUT\n",
    "    if algorithm_name=='CatBoost':\n",
    "        shap_values = best_model.get_feature_importance(Pool(X_SHAP,y_SHAP), type=\"ShapValues\")\n",
    "        shap_values=shap_values[:,:-1]\n",
    "        shap.summary_plot(shap_values, SHAP_INPUT,max_display=100)\n",
    "        global_importances = np.abs(shap_values).mean(0)\n",
    "        print(global_importances)\n",
    "    elif algorithm_name=='Random Forest' or algorithm_name=='Extra Tree'or algorithm_name=='Decision Tree'or algorithm_name=='AdaBoost':\n",
    "        explainer = shap.TreeExplainer(best_model,X_SHAP)\n",
    "        shap_values = explainer.shap_values(X_SHAP,check_additivity= False)\n",
    "        shap.summary_plot(shap_values, SHAP_INPUT,max_display=100)\n",
    "        global_importances = np.abs(shap_values).mean(0)\n",
    "        print(global_importances)\n",
    "    else:\n",
    "        explainer = shap.TreeExplainer(best_model,X_SHAP)\n",
    "        shap_values = explainer.shap_values(X_SHAP,check_additivity= False)\n",
    "        shap.summary_plot(shap_values, SHAP_INPUT,max_display=100)\n",
    "        global_importances = np.abs(shap_values).mean(0)\n",
    "        print(global_importances)"
   ]
  },
  {
   "cell_type": "code",
   "execution_count": 7,
   "metadata": {},
   "outputs": [],
   "source": [
    "# ##########LGBM gridsearch CV for best hyperparameter##########\n",
    "# model_LightGBMRegressor=lightgbm.LGBMRegressor(random_state=1,verbose=-1)\n",
    "# param_light = {\n",
    "# 'boosting_type':['gbdt','rf'],\n",
    "# 'learning_rate':[0.001,0.002,0.004,0.005,0.006,0.008,0.01,0.02,0.04,0.06,0.05,0.06,0.08,0.1,0.12,0.14,0.15,0.16,0.18,0.2,0.4,0.5,0.6,0.8,1],\n",
    "# 'subsample':[0.4,0.45,0.5,0.55,0.6,0.65,0.7,0.75,0.8,0.85,0.9,0.95,1],\n",
    "# 'n_estimators':[50,100,200,400],\n",
    "# 'max_depth':[5,7,9,11,13,-1],\n",
    "# 'reg_alpha':[0,0.001,0.01,0.0001,0.00001],\n",
    "# 'reg_lambda':[0,0.001,0.01,0.0001,0.00001]\n",
    "# }\n",
    "# gridsearch(model_LightGBMRegressor,param_light,'LightGBM')\n",
    "\n",
    "# ##########XGBoost gridsearch CV for best hyperparameter##########\n",
    "# model_XGBRegressor=xgboost.XGBRegressor(objective='reg:squarederror',random_state=1,verbosity=0)\n",
    "# param_xg = {\n",
    "# 'booster':['gbtree'],\n",
    "# 'learning_rate':[0.001,0.002,0.004,0.005,0.006,0.008,0.01,0.02,0.04,0.06,0.05,0.06,0.08,0.1,0.12,0.14,0.15,0.16,0.18,0.2,0.4,0.5,0.6,0.8,1],\n",
    "# 'n_estimators':[100,200,400],\n",
    "# 'max_depth':[5,7,9,11,13],\n",
    "# 'subsample':[0.4,0.45,0.5,0.55,0.6,0.65,0.7,0.75,0.8,0.85,0.9,0.95,1],\n",
    "# 'reg_alpha':[0,0.001,0.01,0.0001,0.00001],\n",
    "# 'reg_lambda':[0,0.001,0.01,0.0001,0.00001]\n",
    "# }\n",
    "# gridsearch(model_XGBRegressor,param_xg,'XGBoost')\n",
    "\n",
    "# ##########CatBoost gridsearch CV for best hyperparameter##########\n",
    "# model_CatRegressor=catboost.CatBoostRegressor(random_state=1,verbose=0)\n",
    "# param_cat = {\n",
    "# 'learning_rate':[0.001,0.002,0.004,0.005,0.006,0.008,0.01,0.02,0.04,0.06,0.05,0.06,0.08,0.1,0.12,0.14,0.15,0.16,0.18,0.2,0.4,0.5],\n",
    "# 'n_estimators':[50,100,200,400],\n",
    "# \"boosting_type\":[\"Plain\"],\n",
    "# 'max_depth':[5,7,9,11],\n",
    "# 'subsample':[0.4,0.5,0.55,0.6,0.65,0.7,0.75,0.8,0.85,0.9,0.95,1],\n",
    "# 'reg_lambda':[0,0.001,0.01,0.0001,0.00001]\n",
    "# }\n",
    "# gridsearch(model_CatRegressor,param_cat,'CatBoost')\n",
    "\n",
    "\n",
    "# ###########GradientBoost gridsearch CV for best hyperparameter##########\n",
    "# model_GradientBoostingRegressor = ensemble.GradientBoostingRegressor(random_state=1)\n",
    "# ###########defining the parameters dictionary##########\n",
    "# param_GB = {\n",
    "# 'learning_rate':[0.001,0.002,0.004,0.005,0.006,0.008,0.01,0.02,0.04,0.06,0.05,0.06,0.08,0.1,0.12,0.14,0.15,0.16,0.18,0.2,0.4,0.5,0.6,0.8,1],\n",
    "# 'n_estimators':[50,100,200,400],\n",
    "# 'max_depth':[3,5,7,9,11,13,16],\n",
    "# 'criterion':['friedman_mse','mae','mse'],\n",
    "# 'max_features':['auto','sqrt','log2'],\n",
    "# 'loss':['ls', 'lad', 'huber', 'quantile']\n",
    "# }\n",
    "# gridsearch(model_GradientBoostingRegressor,param_GB,'GradientBoost')\n",
    "\n",
    "# ###########RandomForest gridsearch CV for best hyperparameter##########\n",
    "# model_RandomForestRegressor = ensemble.RandomForestRegressor(random_state=1)\n",
    "# ###########defining the parameters dictionary##########\n",
    "# param_RF = {\n",
    "# 'n_estimators':[50,100,200,400,None],\n",
    "# 'max_depth':[3,5,7,9,11,None],\n",
    "# 'criterion':['mse','mae'],\n",
    "# 'max_features':['auto','sqrt','log2']\n",
    "# }\n",
    "# gridsearch(model_RandomForestRegressor,param_RF,'Random Forest')\n",
    "\n",
    "\n",
    "# ###########Extra Tree gridsearch CV for best hyperparameter##########\n",
    "# model_ExtraTreeRegressor = ExtraTreeRegressor(random_state=1)\n",
    "# param_ET = {\n",
    "# 'max_depth':[5,6,7,8,9,10,11,None],\n",
    "# 'max_features':['auto','sqrt','log2'],\n",
    "# 'criterion' : [\"mse\", \"friedman_mse\", \"mae\"],\n",
    "# 'splitter' : [ \"best\",'random']\n",
    "# }\n",
    "# gridsearch(model_ExtraTreeRegressor,param_ET,'Extra Tree')\n",
    "\n",
    "\n",
    "# ###########Decision Tree gridsearch CV for best hyperparameter##########\n",
    "# model_DecisionTreeRegressor = tree.DecisionTreeRegressor(random_state=1)\n",
    "# param_DT = {\n",
    "# 'max_depth':[5,6,7,8,9,10,11,None],\n",
    "# 'max_features':['auto','sqrt','log2'],\n",
    "# 'criterion' : [\"mse\", \"friedman_mse\", \"mae\"],\n",
    "# 'splitter' : [ \"best\",'random']\n",
    "# }\n",
    "# gridsearch(model_DecisionTreeRegressor,param_DT,'Decision Tree')\n",
    "\n",
    "\n",
    "# ###########AdaBoost gridsearch CV for best hyperparameter##########\n",
    "# model_AdaBoostRegressor = ensemble.AdaBoostRegressor(random_state=1)\n",
    "# param_Ada = {\n",
    "# 'n_estimators':[50,100,200,400,800],\n",
    "# 'learning_rate':[0.001,0.002,0.004,0.005,0.006,0.008,0.01,0.02,0.04,0.06,0.05,0.06,0.08,0.1,0.12,0.14,0.15,0.16,0.18,0.2,0.4,0.5,0.6,0.8,1],\n",
    "# 'loss':['linear', 'square', 'exponential']\n",
    "# }\n",
    "# gridsearch(model_AdaBoostRegressor,param_Ada,'AdaBoost')"
   ]
  },
  {
   "cell_type": "code",
   "execution_count": 8,
   "metadata": {},
   "outputs": [
    {
     "name": "stderr",
     "output_type": "stream",
     "text": [
      "Converting column-vector to 1d array\n"
     ]
    },
    {
     "name": "stdout",
     "output_type": "stream",
     "text": [
      "LightGBM\n",
      "[191 144 125  82  19  77 268 120 177 260 143  89  55]\n",
      "Best Regressor: {'boosting_type': 'gbdt', 'learning_rate': 0.14, 'max_depth': 13, 'n_estimators': 100, 'reg_alpha': 0.0001, 'reg_lambda': 0.01, 'subsample': 0.4} Best Score: 0.7302067475236947\n",
      "(0.3380390083108833, 0.2903368367600522, 0.538829135032667, 0.8534552921729824) TEST R2 0.8534552921729824 TEST CORR 0.93125\n",
      "(0.24839470785218912, 0.2249502443796967, 0.47428919909660255, 0.8668643801080482) TRAIN R2 0.8668643801080482 TRAIN CORR 0.94254\n",
      "finished\n"
     ]
    },
    {
     "data": {
      "image/png": "[encoded data removed]",
      "text/plain": [
       "<Figure size 432x288 with 1 Axes>"
      ]
     },
     "metadata": {
      "needs_background": "light"
     },
     "output_type": "display_data"
    }
   ],
   "source": [
    "##########LGBM gridsearch CV for best hyperparameter##########\n",
    "model_LightGBMRegressor=lightgbm.LGBMRegressor(random_state=1,verbose=-1)\n",
    "param_light = {\n",
    "'boosting_type':['gbdt'],\n",
    "'learning_rate':[0.14],\n",
    "'subsample':[0.4],\n",
    "'n_estimators':[100],\n",
    "'max_depth':[13],\n",
    "'reg_alpha':[0.0001],\n",
    "'reg_lambda':[0.01]\n",
    "}\n",
    "gridsearch(model_LightGBMRegressor,param_light,'LightGBM')"
   ]
  },
  {
   "cell_type": "code",
   "execution_count": 9,
   "metadata": {},
   "outputs": [
    {
     "name": "stdout",
     "output_type": "stream",
     "text": [
      "Using matplotlib backend: Qt5Agg\n",
      "LightGBM\n"
     ]
    },
    {
     "name": "stderr",
     "output_type": "stream",
     "text": [
      "Converting column-vector to 1d array\n",
      "Converting column-vector to 1d array\n",
      "Converting column-vector to 1d array\n",
      "Converting column-vector to 1d array\n",
      "Converting column-vector to 1d array\n",
      "Converting column-vector to 1d array\n"
     ]
    },
    {
     "name": "stdout",
     "output_type": "stream",
     "text": [
      "[0.39000548 0.05640597 0.07733236 0.04689952 0.03708293 0.10406683\n",
      " 0.2018587  0.09002143 0.19950705 0.1313749  0.06853663 0.53341738\n",
      " 0.06339456]\n"
     ]
    }
   ],
   "source": [
    "%matplotlib\n",
    "shap_plot(model_LightGBMRegressor,param_light,'LightGBM')"
   ]
  },
  {
   "cell_type": "code",
   "execution_count": 10,
   "metadata": {},
   "outputs": [
    {
     "name": "stdout",
     "output_type": "stream",
     "text": [
      "XGBoost\n",
      "[0.03244147 0.01860454 0.02507334 0.03062418 0.03942534 0.07795683\n",
      " 0.03588757 0.04384854 0.08186679 0.03474449 0.04612738 0.449539\n",
      " 0.08386064]\n",
      "Best Regressor: {'booster': 'gbtree', 'learning_rate': 0.01, 'max_depth': 9, 'n_estimators': 400, 'reg_alpha': 0.001, 'reg_lambda': 0.0001, 'subsample': 0.5} Best Score: 0.7277143496184894\n",
      "(0.2793914918050175, 0.1757773679753047, 0.4192581161710584, 0.9105584442353368) TEST R2 0.9105584442353368 TEST CORR 0.95875\n",
      "(0.17271541087565961, 0.13835282294259443, 0.3719580929924693, 0.918569019534084) TRAIN R2 0.918569019534084 TRAIN CORR 0.96609\n",
      "finished\n"
     ]
    }
   ],
   "source": [
    "##########XGBoost gridsearch CV for best hyperparameter##########\n",
    "model_XGBRegressor=xgboost.XGBRegressor(objective='reg:squarederror',random_state=1,verbosity=0)\n",
    "param_xg = {\n",
    "'booster':['gbtree'],\n",
    "'learning_rate':[0.01],\n",
    "'n_estimators':[400],\n",
    "'max_depth':[9],\n",
    "'subsample':[0.5],\n",
    "'reg_alpha':[0.001],\n",
    "'reg_lambda':[0.0001]\n",
    "}\n",
    "gridsearch(model_XGBRegressor,param_xg,'XGBoost')"
   ]
  },
  {
   "cell_type": "code",
   "execution_count": 11,
   "metadata": {},
   "outputs": [
    {
     "name": "stdout",
     "output_type": "stream",
     "text": [
      "XGBoost\n"
     ]
    },
    {
     "name": "stderr",
     "output_type": "stream",
     "text": [
      " 93%|=================== | 539/578 [00:15<00:01]       "
     ]
    },
    {
     "name": "stdout",
     "output_type": "stream",
     "text": [
      "[0.34788017 0.06424545 0.05301051 0.03934802 0.04260696 0.07674515\n",
      " 0.13972624 0.06971178 0.16450906 0.09172396 0.08649223 0.51664172\n",
      " 0.11505874]\n"
     ]
    }
   ],
   "source": [
    "shap_plot(model_XGBRegressor,param_xg,'XGBoost')"
   ]
  },
  {
   "cell_type": "code",
   "execution_count": 13,
   "metadata": {},
   "outputs": [
    {
     "name": "stdout",
     "output_type": "stream",
     "text": [
      "CatBoost\n",
      "[18.53646816  5.086477    4.0316847   4.08702213  2.32303606  6.51383143\n",
      "  8.92121888  5.46978006 10.86165724  6.87071215  8.02658817 15.69489313\n",
      "  3.5766309 ]\n",
      "Best Regressor: {'boosting_type': 'Plain', 'max_depth': 11, 'reg_lambda': 1e-05, 'subsample': 0.45} Best Score: nan\n",
      "(0.24569425275832155, 0.13562149977117982, 0.36826824431544436, 0.9327039689049091) TEST R2 0.9327039689049091 TEST CORR 0.96847\n",
      "(0.09122957569721384, 0.1163684086609736, 0.3411281411155837, 0.9380060624572879) TRAIN R2 0.9380060624572879 TRAIN CORR 0.97055\n",
      "finished\n"
     ]
    }
   ],
   "source": [
    "##########CatBoost gridsearch CV for best hyperparameter##########\n",
    "model_CatRegressor=catboost.CatBoostRegressor(random_state=1,verbose=0)\n",
    "param_cat = {\n",
    "\n",
    "'max_depth':[11],\n",
    "'boosting_type':['Plain'],\n",
    "'subsample':[0.45],\n",
    "'reg_lambda':[1e-05]\n",
    "}\n",
    "gridsearch(model_CatRegressor,param_cat,'CatBoost')"
   ]
  },
  {
   "cell_type": "code",
   "execution_count": 14,
   "metadata": {},
   "outputs": [
    {
     "name": "stdout",
     "output_type": "stream",
     "text": [
      "CatBoost\n",
      "[0.30892971 0.08444802 0.06412259 0.05273128 0.04869042 0.05738286\n",
      " 0.14183547 0.06898965 0.15740838 0.09152151 0.12845511 0.35963173\n",
      " 0.0988195 ]\n"
     ]
    }
   ],
   "source": [
    "shap_plot(model_CatRegressor,param_cat,'CatBoost')"
   ]
  },
  {
   "cell_type": "code",
   "execution_count": 15,
   "metadata": {},
   "outputs": [
    {
     "name": "stderr",
     "output_type": "stream",
     "text": [
      "A column-vector y was passed when a 1d array was expected. Please change the shape of y to (n_samples, ), for example using ravel().\n"
     ]
    },
    {
     "name": "stdout",
     "output_type": "stream",
     "text": [
      "GradientBoost\n",
      "[0.1560969  0.05018436 0.03187356 0.02935757 0.01268217 0.06635627\n",
      " 0.12807157 0.02531097 0.08749825 0.05737603 0.10920227 0.1976236\n",
      " 0.04836647]\n",
      "Best Regressor: {'criterion': 'mse', 'learning_rate': 0.04, 'loss': 'ls', 'max_depth': 7, 'max_features': 'sqrt', 'n_estimators': 200} Best Score: 0.7455078842936924\n",
      "(0.2921022011644976, 0.2152056439070898, 0.46390262330266013, 0.8873829467211111) TEST R2 0.8873829467211111 TEST CORR 0.94933\n",
      "(0.1256188141216428, 0.12405350056460251, 0.35221229473799254, 0.9318806441128653) TRAIN R2 0.9318806441128653 TRAIN CORR 0.96869\n",
      "finished\n"
     ]
    }
   ],
   "source": [
    "###########GradientBoost gridsearch CV for best hyperparameter##########\n",
    "model_GradientBoostingRegressor = ensemble.GradientBoostingRegressor(random_state=1)\n",
    "###########defining the parameters dictionary##########\n",
    "param_GB = {\n",
    "'learning_rate':[0.04],\n",
    "'n_estimators':[200],\n",
    "'max_depth':[7],\n",
    "'criterion':['mse'],\n",
    "'max_features':['sqrt'],\n",
    "'loss':['ls']\n",
    "}\n",
    "gridsearch(model_GradientBoostingRegressor,param_GB,'GradientBoost')"
   ]
  },
  {
   "cell_type": "code",
   "execution_count": 16,
   "metadata": {},
   "outputs": [
    {
     "name": "stdout",
     "output_type": "stream",
     "text": [
      "GradientBoost\n"
     ]
    },
    {
     "name": "stderr",
     "output_type": "stream",
     "text": [
      "A column-vector y was passed when a 1d array was expected. Please change the shape of y to (n_samples, ), for example using ravel().\n",
      "A column-vector y was passed when a 1d array was expected. Please change the shape of y to (n_samples, ), for example using ravel().\n",
      "A column-vector y was passed when a 1d array was expected. Please change the shape of y to (n_samples, ), for example using ravel().\n",
      "A column-vector y was passed when a 1d array was expected. Please change the shape of y to (n_samples, ), for example using ravel().\n",
      "A column-vector y was passed when a 1d array was expected. Please change the shape of y to (n_samples, ), for example using ravel().\n",
      "A column-vector y was passed when a 1d array was expected. Please change the shape of y to (n_samples, ), for example using ravel().\n"
     ]
    },
    {
     "name": "stdout",
     "output_type": "stream",
     "text": [
      "[0.36382118 0.07073567 0.05671294 0.04027638 0.02273881 0.0680691\n",
      " 0.17704309 0.04546058 0.13493506 0.09660088 0.13661221 0.39173904\n",
      " 0.14316712]\n"
     ]
    }
   ],
   "source": [
    "shap_plot(model_GradientBoostingRegressor,param_GB,'GradientBoost')"
   ]
  },
  {
   "cell_type": "code",
   "execution_count": 17,
   "metadata": {},
   "outputs": [
    {
     "name": "stderr",
     "output_type": "stream",
     "text": [
      "A column-vector y was passed when a 1d array was expected. Please change the shape of y to (n_samples,), for example using ravel().\n"
     ]
    },
    {
     "name": "stdout",
     "output_type": "stream",
     "text": [
      "Random Forest\n",
      "[0.1440177  0.05641151 0.03678755 0.03853085 0.01369627 0.05453514\n",
      " 0.12079209 0.04014947 0.08218646 0.06377402 0.12386411 0.18027775\n",
      " 0.04497708]\n",
      "Best Regressor: {'criterion': 'mse', 'max_depth': None, 'max_features': 'sqrt', 'n_estimators': 100} Best Score: 0.7344687689779733\n",
      "(0.3557730656074957, 0.2834210047508347, 0.5323729940096837, 0.833572458236127) TEST R2 0.833572458236127 TEST CORR 0.9338\n",
      "(0.19657205551592605, 0.15637576008613227, 0.3954437508497666, 0.9048804026736238) TRAIN R2 0.9048804026736238 TRAIN CORR 0.96187\n",
      "finished\n"
     ]
    }
   ],
   "source": [
    "###########RandomForest gridsearch CV for best hyperparameter##########\n",
    "model_RandomForestRegressor = ensemble.RandomForestRegressor(random_state=1)\n",
    "###########defining the parameters dictionary##########\n",
    "param_RF = {\n",
    "'n_estimators':[100],\n",
    "'max_depth':[None],\n",
    "'criterion':['mse'],\n",
    "'max_features':['sqrt']\n",
    "}\n",
    "gridsearch(model_RandomForestRegressor,param_RF,'Random Forest')"
   ]
  },
  {
   "cell_type": "code",
   "execution_count": 18,
   "metadata": {},
   "outputs": [
    {
     "name": "stdout",
     "output_type": "stream",
     "text": [
      "Random Forest\n"
     ]
    },
    {
     "name": "stderr",
     "output_type": "stream",
     "text": [
      "A column-vector y was passed when a 1d array was expected. Please change the shape of y to (n_samples,), for example using ravel().\n",
      "A column-vector y was passed when a 1d array was expected. Please change the shape of y to (n_samples,), for example using ravel().\n",
      "A column-vector y was passed when a 1d array was expected. Please change the shape of y to (n_samples,), for example using ravel().\n",
      "A column-vector y was passed when a 1d array was expected. Please change the shape of y to (n_samples,), for example using ravel().\n",
      "A column-vector y was passed when a 1d array was expected. Please change the shape of y to (n_samples,), for example using ravel().\n",
      "A column-vector y was passed when a 1d array was expected. Please change the shape of y to (n_samples,), for example using ravel().\n"
     ]
    },
    {
     "name": "stdout",
     "output_type": "stream",
     "text": [
      "[0.3020276  0.08203357 0.04646176 0.04061589 0.03032642 0.05710142\n",
      " 0.14666839 0.04640907 0.11076043 0.06718095 0.15091196 0.35412608\n",
      " 0.09231667]\n"
     ]
    }
   ],
   "source": [
    "shap_plot(model_RandomForestRegressor,param_RF,'Random Forest')"
   ]
  },
  {
   "cell_type": "code",
   "execution_count": 19,
   "metadata": {},
   "outputs": [
    {
     "name": "stdout",
     "output_type": "stream",
     "text": [
      "Extra Tree\n",
      "[0.16135697 0.04056902 0.06224201 0.05063833 0.07545013 0.06439613\n",
      " 0.0482466  0.01912781 0.0500974  0.02736425 0.01579713 0.3300824\n",
      " 0.05463184]\n",
      "Best Regressor: {'criterion': 'mse', 'max_depth': 10, 'max_features': 'auto', 'splitter': 'random'} Best Score: 0.6409051779937356\n",
      "(0.4558520489320369, 0.5191883334644237, 0.720547245823911, 0.783977782607602) TEST R2 0.783977782607602 TEST CORR 0.88966\n",
      "(0.2734214485666185, 0.24523129366175128, 0.4952083335948127, 0.8606167344808094) TRAIN R2 0.8606167344808094 TRAIN CORR 0.93684\n",
      "finished\n"
     ]
    }
   ],
   "source": [
    "###########Extra Tree gridsearch CV for best hyperparameter##########\n",
    "model_ExtraTreeRegressor = ExtraTreeRegressor(random_state=1)\n",
    "param_ET = {\n",
    "'max_depth':[10],\n",
    "'max_features':['auto'],\n",
    "'criterion' : [\"mse\"],\n",
    "'splitter' : [ 'random']\n",
    "}\n",
    "gridsearch(model_ExtraTreeRegressor,param_ET,'Extra Tree')"
   ]
  },
  {
   "cell_type": "code",
   "execution_count": 21,
   "metadata": {},
   "outputs": [
    {
     "name": "stdout",
     "output_type": "stream",
     "text": [
      "Extra Tree\n",
      "[0.33338442 0.09508187 0.14065629 0.10072526 0.20313122 0.11207465\n",
      " 0.05659234 0.04863507 0.08686851 0.08607742 0.04190478 0.51457893\n",
      " 0.15472053]\n"
     ]
    }
   ],
   "source": [
    "shap_plot(model_ExtraTreeRegressor,param_ET,'Extra Tree')"
   ]
  },
  {
   "cell_type": "code",
   "execution_count": 22,
   "metadata": {},
   "outputs": [
    {
     "name": "stdout",
     "output_type": "stream",
     "text": [
      "Decision Tree\n",
      "[0.16135697 0.04056902 0.06224201 0.05063833 0.07545013 0.06439613\n",
      " 0.0482466  0.01912781 0.0500974  0.02736425 0.01579713 0.3300824\n",
      " 0.05463184]\n",
      "Best Regressor: {'criterion': 'mse', 'max_depth': 10, 'max_features': 'auto', 'splitter': 'random'} Best Score: 0.6409051779937356\n",
      "(0.4558520489320369, 0.5191883334644237, 0.720547245823911, 0.783977782607602) TEST R2 0.783977782607602 TEST CORR 0.88966\n",
      "(0.2734214485666185, 0.24523129366175128, 0.4952083335948127, 0.8606167344808094) TRAIN R2 0.8606167344808094 TRAIN CORR 0.93684\n",
      "finished\n"
     ]
    }
   ],
   "source": [
    "###########Decision Tree gridsearch CV for best hyperparameter##########\n",
    "model_DecisionTreeRegressor = tree.DecisionTreeRegressor(random_state=1)\n",
    "param_DT = {\n",
    "'max_depth':[10],\n",
    "'max_features':['auto'],\n",
    "'criterion' : [\"mse\"],\n",
    "'splitter' : [ 'random']\n",
    "}\n",
    "gridsearch(model_DecisionTreeRegressor,param_DT,'Decision Tree')"
   ]
  },
  {
   "cell_type": "code",
   "execution_count": 23,
   "metadata": {},
   "outputs": [
    {
     "name": "stdout",
     "output_type": "stream",
     "text": [
      "Decision Tree\n",
      "[0.33338442 0.09508187 0.14065629 0.10072526 0.20313122 0.11207465\n",
      " 0.05659234 0.04863507 0.08686851 0.08607742 0.04190478 0.51457893\n",
      " 0.15472053]\n"
     ]
    }
   ],
   "source": [
    "shap_plot(model_DecisionTreeRegressor,param_DT,'Decision Tree')"
   ]
  },
  {
   "cell_type": "code",
   "execution_count": 24,
   "metadata": {},
   "outputs": [
    {
     "name": "stderr",
     "output_type": "stream",
     "text": [
      "A column-vector y was passed when a 1d array was expected. Please change the shape of y to (n_samples, ), for example using ravel().\n"
     ]
    },
    {
     "name": "stdout",
     "output_type": "stream",
     "text": [
      "AdaBoost\n",
      "[0.14877308 0.01424838 0.00720595 0.03580418 0.0058349  0.06172016\n",
      " 0.14378034 0.01385015 0.13114588 0.03092579 0.03504662 0.3232472\n",
      " 0.04841739]\n",
      "Best Regressor: {'learning_rate': 0.12, 'loss': 'exponential', 'n_estimators': 400} Best Score: 0.5863480578613744\n",
      "(0.7024364263898497, 0.790436489961723, 0.8890649526112943, 0.1397217495761348) TEST R2 0.1397217495761348 TEST CORR 0.8154\n",
      "(0.6346464890162536, 0.6815952146326156, 0.825587799469333, 0.27405610192896146) TRAIN R2 0.27405610192896146 TRAIN CORR 0.82575\n",
      "finished\n"
     ]
    }
   ],
   "source": [
    "###########AdaBoost gridsearch CV for best hyperparameter##########\n",
    "model_AdaBoostRegressor = ensemble.AdaBoostRegressor(random_state=1)\n",
    "param_Ada = {\n",
    "'n_estimators':[400],\n",
    "'learning_rate':[0.12],\n",
    "'loss':['exponential']\n",
    "}\n",
    "gridsearch(model_AdaBoostRegressor,param_Ada,'AdaBoost')"
   ]
  },
  {
   "cell_type": "code",
   "execution_count": 25,
   "metadata": {},
   "outputs": [
    {
     "name": "stdout",
     "output_type": "stream",
     "text": [
      "AdaBoost\n"
     ]
    },
    {
     "name": "stderr",
     "output_type": "stream",
     "text": [
      "A column-vector y was passed when a 1d array was expected. Please change the shape of y to (n_samples, ), for example using ravel().\n",
      "A column-vector y was passed when a 1d array was expected. Please change the shape of y to (n_samples, ), for example using ravel().\n",
      "A column-vector y was passed when a 1d array was expected. Please change the shape of y to (n_samples, ), for example using ravel().\n",
      "A column-vector y was passed when a 1d array was expected. Please change the shape of y to (n_samples, ), for example using ravel().\n",
      "A column-vector y was passed when a 1d array was expected. Please change the shape of y to (n_samples, ), for example using ravel().\n",
      "A column-vector y was passed when a 1d array was expected. Please change the shape of y to (n_samples, ), for example using ravel().\n"
     ]
    },
    {
     "name": "stdout",
     "output_type": "stream",
     "text": [
      "[0.23219253 0.04645457 0.00629148 0.02399916 0.02641353 0.05097933\n",
      " 0.22131431 0.01770779 0.1846446  0.02861783 0.02828969 0.41936861\n",
      " 0.07310821]\n"
     ]
    }
   ],
   "source": [
    "shap_plot(model_AdaBoostRegressor,param_Ada,'AdaBoost')"
   ]
  },
  {
   "cell_type": "code",
   "execution_count": null,
   "metadata": {},
   "outputs": [],
   "source": []
  }
 ],
 "metadata": {
  "kernelspec": {
   "display_name": "Python 3",
   "language": "python",
   "name": "python3"
  },
  "language_info": {
   "codemirror_mode": {
    "name": "ipython",
    "version": 3
   },
   "file_extension": ".py",
   "mimetype": "text/x-python",
   "name": "python",
   "nbconvert_exporter": "python",
   "pygments_lexer": "ipython3",
   "version": "3.7.6"
  }
 },
 "nbformat": 4,
 "nbformat_minor": 4
}
