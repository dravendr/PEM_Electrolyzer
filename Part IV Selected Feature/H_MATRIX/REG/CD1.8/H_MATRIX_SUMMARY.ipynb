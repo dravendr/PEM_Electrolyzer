{
 "cells": [
  {
   "cell_type": "code",
   "execution_count": null,
   "metadata": {},
   "outputs": [],
   "source": [
    "from make_matrix import *"
   ]
  },
  {
   "cell_type": "code",
   "execution_count": null,
   "metadata": {},
   "outputs": [],
   "source": [
    "feature_list=[\n",
    "                      'Operating Temperature (℃)',#0\n",
    "                      'Flow Rate (mL min-1)',#1    \n",
    "                      'Active Area (cm2)', #2\n",
    "                      'Ir wt. %',#3\n",
    "                      'Ru wt.%',#4\n",
    "                      'O wt. %',#5\n",
    "                      'I/C in Anode',#6\n",
    "                      'Pt wt. %',#7\n",
    "                      'I/C in Cathode',#8  \n",
    "                      'Anode Precious Metal Loading (mg cm-2 Ir/Ru/Pt/Pd)',#9\n",
    "                      'Cathode Precious Metal Loading (mg cm-2 Pt/Pd)',#10\n",
    "                      'Membrane Thickness (μm)',#11\n",
    "                      'EW'#12\n",
    "]"
   ]
  },
  {
   "cell_type": "code",
   "execution_count": null,
   "metadata": {},
   "outputs": [],
   "source": [
    "ANN=process_matrix('ANN_OVPREG.csv',feature_list)"
   ]
  },
  {
   "cell_type": "code",
   "execution_count": null,
   "metadata": {},
   "outputs": [],
   "source": [
    "ADA=process_matrix('ADA_OVPREG.csv',feature_list)"
   ]
  },
  {
   "cell_type": "code",
   "execution_count": null,
   "metadata": {},
   "outputs": [],
   "source": [
    "CAT=process_matrix('CAT_OVPREG.csv',feature_list)"
   ]
  },
  {
   "cell_type": "code",
   "execution_count": null,
   "metadata": {},
   "outputs": [],
   "source": [
    "LGBM=process_matrix('LGBM_OVPREG.csv',feature_list)"
   ]
  },
  {
   "cell_type": "code",
   "execution_count": null,
   "metadata": {
    "run_control": {
     "marked": false
    }
   },
   "outputs": [],
   "source": [
    "XG=process_matrix('XG_OVPREG.csv',feature_list)"
   ]
  },
  {
   "cell_type": "code",
   "execution_count": null,
   "metadata": {},
   "outputs": [],
   "source": [
    "GB=process_matrix('GB_OVPREG.csv',feature_list)"
   ]
  },
  {
   "cell_type": "code",
   "execution_count": null,
   "metadata": {},
   "outputs": [],
   "source": [
    "RF=process_matrix('RF_OVPREG.csv',feature_list)"
   ]
  },
  {
   "cell_type": "code",
   "execution_count": null,
   "metadata": {},
   "outputs": [],
   "source": [
    "DT=process_matrix('DT_OVPREG.csv',feature_list)"
   ]
  },
  {
   "cell_type": "code",
   "execution_count": null,
   "metadata": {},
   "outputs": [],
   "source": [
    "ET=process_matrix('ET_OVPREG.csv',feature_list)"
   ]
  },
  {
   "cell_type": "code",
   "execution_count": null,
   "metadata": {},
   "outputs": [],
   "source": [
    "LGBM_AUC=0.787606484\n",
    "\n",
    "\n",
    "\n",
    "XG_AUC=0.737480499\n",
    "\n",
    "\n",
    "\n",
    "CAT_AUC=0.753943952\n",
    "\n",
    "\n",
    "\n",
    "GB_AUC=0.768663796\n",
    "\n",
    "\n",
    "\n",
    "RF_AUC=0.735798964\n",
    "\n",
    "\n",
    "\n",
    "ET_AUC=0.718857297\n",
    "\n",
    "\n",
    "\n",
    "DT_AUC=0.718857297\n",
    "\n",
    "\n",
    "\n",
    "ADA_AUC=0.185337686\n",
    "\n",
    "\n",
    "\n",
    "ANN_AUC=0.84316723\n",
    "\n",
    "\n",
    "\n"
   ]
  },
  {
   "cell_type": "code",
   "execution_count": null,
   "metadata": {},
   "outputs": [],
   "source": [
    "average_weighted_matrix=(LGBM*LGBM_AUC+XG*XG_AUC+CAT*CAT_AUC+GB*GB_AUC+RF*RF_AUC+ET*ET_AUC+DT*DT_AUC+ADA*ADA_AUC+ANN*ANN_AUC)/9"
   ]
  },
  {
   "cell_type": "code",
   "execution_count": null,
   "metadata": {},
   "outputs": [],
   "source": [
    "average_weighted_matrix"
   ]
  },
  {
   "cell_type": "code",
   "execution_count": null,
   "metadata": {},
   "outputs": [],
   "source": [
    "average_weighted_matrix.to_csv('avg_wt.csv')"
   ]
  },
  {
   "cell_type": "code",
   "execution_count": null,
   "metadata": {},
   "outputs": [],
   "source": [
    "algorithms_list=['LightGBM','XGBoost','CatBoost','Gradient Boost','Random Forest','Extra Tree','Decision Tree','AdaBoost','Artificial Neural Network']\n",
    "model_result_list=[LGBM,XG,CAT,GB,RF,ET,DT,ADA,ANN]\n",
    "def generate_first_order(algorithms_list,feature_list,model_result_list):\n",
    "    first_order_matrix=pd.DataFrame(index=algorithms_list,columns=feature_list)\n",
    "    for i in range (0,len(algorithms_list)):\n",
    "        each_sum=model_result_list[i].apply(lambda x: x.sum())\n",
    "        first_order_matrix.loc[algorithms_list[i]]=each_sum\n",
    "    first_order_matrix['sum']=first_order_matrix.apply(lambda x: x.sum(), axis=1)\n",
    "    first_order_matrix=first_order_matrix.div(first_order_matrix['sum'],axis=0)\n",
    "    print(first_order_matrix)\n",
    "    first_order_matrix.to_csv('first_order_matrixr.csv')\n",
    "generate_first_order(algorithms_list,feature_list,model_result_list)"
   ]
  },
  {
   "cell_type": "code",
   "execution_count": null,
   "metadata": {},
   "outputs": [],
   "source": []
  }
 ],
 "metadata": {
  "kernelspec": {
   "display_name": "Python 3",
   "language": "python",
   "name": "python3"
  },
  "language_info": {
   "codemirror_mode": {
    "name": "ipython",
    "version": 3
   },
   "file_extension": ".py",
   "mimetype": "text/x-python",
   "name": "python",
   "nbconvert_exporter": "python",
   "pygments_lexer": "ipython3",
   "version": "3.7.6"
  }
 },
 "nbformat": 4,
 "nbformat_minor": 4
}
