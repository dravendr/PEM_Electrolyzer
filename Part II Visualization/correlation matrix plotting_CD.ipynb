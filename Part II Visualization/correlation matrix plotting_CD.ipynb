{
 "cells": [
  {
   "cell_type": "code",
   "execution_count": null,
   "metadata": {},
   "outputs": [],
   "source": [
    "###########import packages##########\n",
    "import pandas as pd\n",
    "import matplotlib.pyplot as plt\n",
    "import numpy as np\n",
    "from sklearn.model_selection import GridSearchCV\n",
    "from sklearn.model_selection import train_test_split\n",
    "from sklearn.metrics import accuracy_score\n",
    "from sklearn.metrics import classification_report\n",
    "from sklearn.model_selection import train_test_split\n",
    "from sklearn import ensemble\n",
    "from sklearn import svm\n",
    "from sklearn import neighbors\n",
    "from sklearn import tree\n",
    "from sklearn.linear_model import BayesianRidge\n",
    "from sklearn.tree import ExtraTreeRegressor\n",
    "from sklearn.tree import ExtraTreeClassifier\n",
    "from sklearn import linear_model\n",
    "from sklearn.metrics import roc_curve, auc\n",
    "import lightgbm\n",
    "import catboost\n",
    "import xgboost\n",
    "import shap\n",
    "import seaborn as sns\n",
    "from catboost import *\n",
    "from sklearn.manifold import TSNE\n",
    "%matplotlib\n",
    "###########loading data##########\n",
    "fdata=pd.read_csv('database_filled_CD.csv',encoding=\"gbk\")\n",
    "raw_data=fdata.loc[:,[\n",
    "                      'Operating Temperature (℃)',#0\n",
    "                      'Operating Pressure (bar)',#1\n",
    "                      'Flow Rate (mL min-1)',#2\n",
    "                      'Active Area (cm2)', #3\n",
    "                      'Ir wt. %',#4\n",
    "                      'Ru wt.%',#5\n",
    "                      'O wt. %',#6\n",
    "                      'C wt. %',#7\n",
    "                      'Pure_0/Supported_1',#8\n",
    "                      'I/C in Anode',#9\n",
    "                      'Pt wt. %',#10\n",
    "                      'I/C in Cathode',#11  \n",
    "                      'Anode Precious Metal Loading (mg cm-2 Ir/Ru/Pt/Pd)',#12\n",
    "                      'Cathode Precious Metal Loading (mg cm-2 Pt/Pd)',#13\n",
    "                      'CCM_0/GDE_1',#14    \n",
    "                      'Membrane Thickness (μm)',#15\n",
    "                      'EW',#16\n",
    "                      'Minimum Stability Current Density (A cm-2)',#17\n",
    "                      'Maximum Stability Current Density (A cm-2)',#18\n",
    "                      'Fluctuation period (h)',#19\n",
    "                      'Stability Test Time (h-1)'#34\n",
    "                        ]]\n",
    "###########train test splitting##########\n",
    "raw_param=raw_data.iloc[:,0:35]\n",
    "print('ready')\n"
   ]
  },
  {
   "cell_type": "code",
   "execution_count": null,
   "metadata": {},
   "outputs": [],
   "source": [
    "mat_sp=raw_data.corr(method='spearman')#kendall #pearson\n",
    "mat_kd=raw_data.corr(method='kendall')\n",
    "mat_ps=raw_data.corr(method='pearson')"
   ]
  },
  {
   "cell_type": "code",
   "execution_count": null,
   "metadata": {},
   "outputs": [],
   "source": [
    "f, ax= plt.subplots(figsize = (14, 10))\n",
    "sns.set(font_scale=0.75)\n",
    "sns.heatmap(mat_ps, \n",
    "                annot=True, vmax=1,vmin = 0, xticklabels= True, yticklabels= True, square=True, cmap=\"gist_heat_r\")"
   ]
  },
  {
   "cell_type": "code",
   "execution_count": null,
   "metadata": {},
   "outputs": [],
   "source": [
    "CD_CL=fdata.loc[:,['CL_2V_2A']]"
   ]
  },
  {
   "cell_type": "code",
   "execution_count": null,
   "metadata": {},
   "outputs": [],
   "source": [
    "def summarize(list1):\n",
    "    total=0\n",
    "    for ele in range(0, len(list1)):\n",
    "        total = total + list1[ele]\n",
    "    return total\n",
    "from sklearn.decomposition import PCA"
   ]
  },
  {
   "cell_type": "code",
   "execution_count": null,
   "metadata": {},
   "outputs": [],
   "source": [
    "pca_3 = PCA(n_components=3)\n",
    "chem_3_PCA= pca_3.fit_transform(raw_data)     \n",
    "print(pca_3.explained_variance_ratio_)\n",
    "\n",
    "pca_2 = PCA(n_components=2)\n",
    "chem_2_PCA= pca_2.fit_transform(raw_data)     \n",
    "print(pca_2.explained_variance_ratio_)\n",
    "\n",
    "print(summarize(pca_3.explained_variance_ratio_))\n",
    "\n",
    "print(summarize(pca_2.explained_variance_ratio_))"
   ]
  },
  {
   "cell_type": "code",
   "execution_count": null,
   "metadata": {},
   "outputs": [],
   "source": [
    "tsne_3 = TSNE(n_components=3, random_state=0,init='random',learning_rate=500,n_iter=10000,method='exact')\n",
    "chem_3_TSNE = tsne_3.fit_transform(raw_param)\n",
    "tsne_2 = TSNE(n_components=2, random_state=0,init='random',learning_rate=500,n_iter=10000,method='exact')\n",
    "chem_2_TSNE = tsne_2.fit_transform(raw_param)"
   ]
  },
  {
   "cell_type": "code",
   "execution_count": null,
   "metadata": {},
   "outputs": [],
   "source": [
    "from mpl_toolkits.mplot3d import Axes3D\n",
    "def plot_3d_PCA(dataset,classification_result):\n",
    "    cl=classification_result.values[:,0]\n",
    "    colors = ['red', 'blue','green','orange']\n",
    "    # 根据主成分分析结果绘制散点图\n",
    "    fig=plt.figure()\n",
    "    ax=Axes3D(fig)\n",
    "    for i in range(len(colors)):\n",
    "        x = dataset[:, 0][cl == i]\n",
    "        y = dataset[:, 1][cl == i]\n",
    "        z = dataset[:, 2][cl == i]\n",
    "        ax.scatter(x,y,z,c=colors[i])\n",
    "        ax.set_zlabel('Third Principal Component',fontsize='xx-large')\n",
    "    # 设置图例，0-9用不同颜色表示\n",
    "    if max(cl)>1:\n",
    "        plt.legend(np.array([0,1,2,3]), bbox_to_anchor=(1.05, 1), loc=2, borderaxespad=0.,fontsize='xx-large')\n",
    "    else:\n",
    "        plt.legend(np.array([0,1]), bbox_to_anchor=(1.05, 1), loc=2, borderaxespad=0.,fontsize='xx-large')\n",
    "    # 设置坐标标签\n",
    "    plt.xlabel('First Principal Component',fontsize='xx-large')\n",
    "    plt.ylabel('Second Principal Component',fontsize='xx-large')\n",
    "    # 设置标题\n",
    "    plt.title(\"PCA Scatter Plot 3D\",fontsize='xx-large')\n",
    "    plt.show()\n",
    "def plot_2d_PCA(dataset,classification_result):\n",
    "    cl=classification_result.values[:,0]\n",
    "    colors = ['red', 'blue','green','orange']\n",
    "    # 根据主成分分析结果绘制散点图\n",
    "    fig=plt.figure()\n",
    "    for i in range(len(colors)):\n",
    "        x = dataset[:, 0][cl == i]\n",
    "        y = dataset[:, 1][cl == i]\n",
    "        plt.scatter(x,y,c=colors[i])\n",
    "    # 设置图例，0-9用不同颜色表示\n",
    "    if max(cl)>1:\n",
    "        plt.legend(np.array([0,1,2,3]), bbox_to_anchor=(1.05, 1), loc=2, borderaxespad=0.,fontsize='xx-large')\n",
    "    else:\n",
    "        plt.legend(np.array([0,1]), bbox_to_anchor=(1.05, 1), loc=2, borderaxespad=0.,fontsize='xx-large')\n",
    "    # 设置坐标标签\n",
    "    plt.xlabel('First Principal Component',fontsize='xx-large')\n",
    "    plt.ylabel('Second Principal Component',fontsize='xx-large')\n",
    "    # 设置标题\n",
    "    plt.title(\"PCA Scatter Plot 2D\",fontsize='xx-large')\n",
    "    # 显示图形\n",
    "    plt.show()\n",
    "def plot_3d_TSNE(dataset,classification_result):\n",
    "    cl=classification_result.values[:,0]\n",
    "    colors = ['red', 'blue','green','orange']\n",
    "    # 根据主成分分析结果绘制散点图\n",
    "    fig=plt.figure()\n",
    "    ax=Axes3D(fig)\n",
    "    for i in range(len(colors)):\n",
    "        x = dataset[:, 0][cl == i]\n",
    "        y = dataset[:, 1][cl == i]\n",
    "        z = dataset[:, 2][cl == i]\n",
    "        ax.scatter(x,y,z,c=colors[i])\n",
    "        ax.set_zlabel('Third Principal Component',fontsize='xx-large')\n",
    "    # 设置图例，0-9用不同颜色表示\n",
    "    if max(cl)>1:\n",
    "        plt.legend(np.array([0,1,2,3]), bbox_to_anchor=(1.05, 1), loc=2, borderaxespad=0.,fontsize='xx-large')\n",
    "    else:\n",
    "        plt.legend(np.array([0,1]), bbox_to_anchor=(1.05, 1), loc=2, borderaxespad=0.,fontsize='xx-large')\n",
    "    # 设置坐标标签\n",
    "    plt.xlabel('First Principal Component',fontsize='xx-large')\n",
    "    plt.ylabel('Second Principal Component',fontsize='xx-large')\n",
    "    # 设置标题\n",
    "    plt.title(\"TSNE Scatter Plot 3D\",fontsize='xx-large')\n",
    "    plt.show()\n",
    "def plot_2d_TSNE(dataset,classification_result):\n",
    "    cl=classification_result.values[:,0]\n",
    "    colors = ['red', 'blue','green','orange']\n",
    "    # 根据主成分分析结果绘制散点图\n",
    "    fig=plt.figure()\n",
    "    for i in range(len(colors)):\n",
    "        x = dataset[:, 0][cl == i]\n",
    "        y = dataset[:, 1][cl == i]\n",
    "        plt.scatter(x,y,c=colors[i])\n",
    "    # 设置图例，0-9用不同颜色表示\n",
    "    if max(cl)>1:\n",
    "        plt.legend(np.array([0,1,2,3]), bbox_to_anchor=(1.05, 1), loc=2, borderaxespad=0.,fontsize='xx-large')\n",
    "    else:\n",
    "        plt.legend(np.array([0,1]), bbox_to_anchor=(1.05, 1), loc=2, borderaxespad=0.,fontsize='xx-large')\n",
    "    # 设置坐标标签\n",
    "    plt.xlabel('First Principal Component',fontsize='xx-large')\n",
    "    plt.ylabel('Second Principal Component',fontsize='xx-large')\n",
    "    # 设置标题\n",
    "    plt.title(\"TSNE Scatter Plot 2D\",fontsize='xx-large')\n",
    "    # 显示图形\n",
    "    plt.show()"
   ]
  },
  {
   "cell_type": "code",
   "execution_count": null,
   "metadata": {},
   "outputs": [],
   "source": [
    "plot_3d_PCA(chem_3_PCA,CD_CL)"
   ]
  },
  {
   "cell_type": "code",
   "execution_count": null,
   "metadata": {},
   "outputs": [],
   "source": [
    "plot_2d_PCA(chem_2_PCA,CD_CL)"
   ]
  },
  {
   "cell_type": "code",
   "execution_count": null,
   "metadata": {},
   "outputs": [],
   "source": [
    "plot_3d_TSNE(chem_3_TSNE,CD_CL)"
   ]
  },
  {
   "cell_type": "code",
   "execution_count": null,
   "metadata": {},
   "outputs": [],
   "source": [
    "plot_2d_TSNE(chem_2_TSNE,CD_CL)"
   ]
  },
  {
   "cell_type": "code",
   "execution_count": null,
   "metadata": {},
   "outputs": [],
   "source": []
  }
 ],
 "metadata": {
  "kernelspec": {
   "display_name": "Python 3",
   "language": "python",
   "name": "python3"
  },
  "language_info": {
   "codemirror_mode": {
    "name": "ipython",
    "version": 3
   },
   "file_extension": ".py",
   "mimetype": "text/x-python",
   "name": "python",
   "nbconvert_exporter": "python",
   "pygments_lexer": "ipython3",
   "version": "3.7.6"
  }
 },
 "nbformat": 4,
 "nbformat_minor": 4
}
