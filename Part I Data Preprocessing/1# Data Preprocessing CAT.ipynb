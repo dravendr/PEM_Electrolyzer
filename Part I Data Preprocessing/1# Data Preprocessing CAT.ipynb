{
 "cells": [
  {
   "cell_type": "code",
   "execution_count": null,
   "metadata": {},
   "outputs": [],
   "source": [
    "###########import packages##########\n",
    "import pandas as pd\n",
    "import matplotlib.pyplot as plt\n",
    "import numpy as np\n",
    "import catboost\n",
    "import lightgbm\n",
    "from catboost import CatBoostRegressor\n",
    "from sklearn.ensemble import RandomForestRegressor\n",
    "from sklearn.model_selection import GridSearchCV\n",
    "from xgboost import plot_importance\n",
    "from xgboost import XGBClassifier,XGBRegressor\n",
    "from sklearn.model_selection import train_test_split\n",
    "from sklearn.metrics import accuracy_score\n",
    "from sklearn.metrics import classification_report\n",
    "from sklearn import ensemble\n",
    "from sklearn.tree import ExtraTreeRegressor\n",
    "from sklearn import svm\n",
    "from sklearn import neighbors\n",
    "from sklearn import tree\n",
    "from sklearn.impute import SimpleImputer\n",
    "from fancyimpute import KNN,IterativeImputer\n",
    "%matplotlib inline\n",
    "###########loading data##########\n",
    "fdata=pd.read_csv('database_unfilled_CD.csv',encoding=\"gbk\")\n",
    "raw_data=fdata.loc[:,[\n",
    "                      'Operating Temperature (℃)',#0\n",
    "                      'Operating Pressure (bar)',#1\n",
    "                      'Flow Rate (mL min-1)',#2\n",
    "                      'Active Area (cm2)', #3\n",
    "                      'Ir wt. %',#4\n",
    "                      'Ru wt.%',#5\n",
    "                      'O wt. %',#6\n",
    "                      'C wt. %',#7\n",
    "                      'Pure_0/Supported_1',#8\n",
    "                      'I/C in Anode',#9\n",
    "                      'Pt wt. %',#10\n",
    "                      'I/C in Cathode',#11  \n",
    "                      'Anode Precious Metal Loading (mg cm-2 Ir/Ru/Pt/Pd)',#12\n",
    "                      'Cathode Precious Metal Loading (mg cm-2 Pt/Pd)',#13\n",
    "                      'CCM_0/GDE_1',#14    \n",
    "                      'Membrane Thickness (μm)',#15\n",
    "                      'EW',#16\n",
    "                      'Current at 1.5 V',#17\n",
    "                      'Current at 1.6 V',#18\n",
    "                      'Current at 1.7 V',#19\n",
    "                      'Current at 1.8 V',#20\n",
    "                      'Current at 1.9 V',#21\n",
    "                      'Current at 2.0 V',#22\n",
    "                      'Minimum Stability Current Density (A cm-2)',#23\n",
    "                      'Maximum Stability Current Density (A cm-2)',#24\n",
    "                      'Fluctuation period (h)',#25\n",
    "                      'Stability Test Time (h-1)'#26\n",
    "                        ]]\n",
    "\n",
    "filled = IterativeImputer(estimator=CatBoostRegressor(n_estimators=400,verbose=0,random_state=1),initial_strategy='most_frequent',max_iter=10, tol=0.001).fit_transform(raw_data)\n",
    "df_filled=pd.DataFrame(filled)\n",
    "\n",
    "df_filled.to_csv('C:\\\\Users\\\\Administratro\\\\code PEM  Electrolyzer\\\\database_filled_CD.csv',index=False,header=False)"
   ]
  },
  {
   "cell_type": "code",
   "execution_count": null,
   "metadata": {},
   "outputs": [],
   "source": []
  }
 ],
 "metadata": {
  "kernelspec": {
   "display_name": "Python 3",
   "language": "python",
   "name": "python3"
  },
  "language_info": {
   "codemirror_mode": {
    "name": "ipython",
    "version": 3
   },
   "file_extension": ".py",
   "mimetype": "text/x-python",
   "name": "python",
   "nbconvert_exporter": "python",
   "pygments_lexer": "ipython3",
   "version": "3.7.6"
  }
 },
 "nbformat": 4,
 "nbformat_minor": 4
}
